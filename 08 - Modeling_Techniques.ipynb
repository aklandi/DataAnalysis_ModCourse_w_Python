{
 "cells": [
  {
   "cell_type": "markdown",
   "metadata": {},
   "source": [
    "## Notebook Topic: Modeling Techniques\n",
    "\n",
    "<ins>Learning Objectives</ins>\n",
    "\n",
    "1. To learn basic statistical modelling techniques\n",
    "\n",
    "This is *NOT* a statistics course or a machine learning course.  We will only learn when to use each method, how to implement in Python, and how to analyze the output.  "
   ]
  },
  {
   "cell_type": "markdown",
   "metadata": {},
   "source": [
    "**Section I: Linear Regression**\n",
    "\n",
    "We'll use a motivating problem to better understand what linear regression is and how it works.\n",
    "\n",
    "<ins>Motivating Problem</ins> \"The bigger they are, the harder they fall.\"  \n",
    "Below is the weight (kg) of 5 different objects and the force (kg $\\cdot$ m/s $^2$) with which they hit the ground (taking into consideration there is air resistance).\n",
    "\n",
    "| weight | force |\n",
    "| ------ | ----- |\n",
    "| 45.3 | 443.94 |\n",
    "| 22.6 | 221.48 |\n",
    "| 34.5 | 338.10 |\n",
    "| 0.91 | 8.82 |\n",
    "| 38.6 | 378.29 |"
   ]
  },
  {
   "cell_type": "markdown",
   "metadata": {},
   "source": [
    "We will create a scatterplot of this data."
   ]
  },
  {
   "cell_type": "code",
   "execution_count": null,
   "metadata": {},
   "outputs": [],
   "source": [
    "# load necessary libraries\n",
    "import numpy as np\n",
    "import pandas as pd\n",
    "\n",
    "# create a pandas data frame of our data\n",
    "DF = pd.DataFrame(data = np.array([[45.3, 22.6,34.5, 0.91, 38.6], [443.94, 221.48, 338.10, 8.82, 378.29]]).T, columns = [\"weight\", \"force\"])\n",
    "# plot the data on a scatterplot, with block dots\n",
    "DF.plot(kind = 'scatter', x = \"weight\", y = \"force\", c = \"black\", title = \"Weight v. Force\")"
   ]
  },
  {
   "cell_type": "markdown",
   "metadata": {},
   "source": [
    "*Linear Regression* helps us answer \n",
    "\n",
    "1. Is there really a linear relationship between the independent and dependent variables in the population (all objects) or might the pattern we see in the sample data plausibly arise just by chance?\n",
    "\n",
    "2. What is the rate of change that relates the dependent variable to the independent variable in the population (all objects), including the margin of error for our estimate of the slope?\n",
    "\n",
    "We use the common method called the *Least Squares Method*."
   ]
  },
  {
   "cell_type": "markdown",
   "metadata": {},
   "source": [
    "To implement the *least squares method* in Python, we need to import two more important libraries."
   ]
  },
  {
   "cell_type": "code",
   "execution_count": null,
   "metadata": {},
   "outputs": [],
   "source": [
    "import statsmodels.regression.linear_model as lm\n",
    "import seaborn as sbn"
   ]
  },
  {
   "cell_type": "code",
   "execution_count": null,
   "metadata": {},
   "outputs": [],
   "source": [
    "# find the least squares information\n",
    "\n",
    "# notice we are using the statsmodels.regression.linear_model library here!\n",
    "lsq = lm.OLS(endog = DF['force'], exog = DF['weight']).fit()\n",
    "lsq.summary()"
   ]
  },
  {
   "cell_type": "markdown",
   "metadata": {},
   "source": [
    "The summary gives us\n",
    "\n",
    "* number of observations $n$ (i.e., data points)\n",
    "* correlation coefficient squared (i.e., the percent of $y$ that can be explained by $x$)\n",
    "* the slope of the best fit line\n",
    "* the intercept of the best fit line\n",
    "* and an indicator of how likely it is that the slope/intercept provided could fit another random sample of (weights, force) for $n$\n",
    "\n",
    "Some of this information will be helpful for earlier questions \n",
    "\n",
    "1. Is there really a linear relationship between the independent and dependent variables in the population (all objects) or might the pattern we see in the sample data plausibly arise just by chance?\n",
    "\n",
    "    Under *coef*, there is information about *Intercept* and *weight*, and we can get the line of best fit\n",
    "    $$\n",
    "    \\hat{y} = 9.8203x-0.0828.\n",
    "    $$\n",
    "\n",
    "    In statistics, we use the default hypothesis \"There is no linear relationship between the two variables x and y\".  We test to see if this is false, or that there is *some* linear relationship.\n",
    "    \n",
    "    In the summary, on the bottom right, three columns from *coef* there is *P>|t|*.  In statistics, this is the **p-value**.  A p-value represents the probability the default hypothesis is true based on our sample data.  In the row marked *weight*, which is the row for slope information, we see that *P>|t| = 0*.  Since the p-value is so small, this means our alternative hypothesis is more likely to be true than the default hypothesis.  We say:\n",
    "\n",
    "    \"We have statistically significant evidence that there is a linear relationship between the variables weight and force.\""
   ]
  },
  {
   "cell_type": "code",
   "execution_count": null,
   "metadata": {},
   "outputs": [],
   "source": [
    "# how to graph line of best fit on a scatterplot\n",
    "\n",
    "# notice we are using the seaborn library!\n",
    "sbn.regplot(x = 'weight', y = 'force', data = DF, color= \"black\")"
   ]
  },
  {
   "cell_type": "markdown",
   "metadata": {},
   "source": [
    "2. What is the rate of change that relates the dependent variable to the independent variable in the population (all objects), including the margin of error for our estimate of the slope?\n",
    "\n",
    "    What we want to know is how well does this line represent the relationship between the two variables overall (not just for our particular sample).  In statistics, we use something called a confidence interval.  "
   ]
  },
  {
   "cell_type": "code",
   "execution_count": null,
   "metadata": {},
   "outputs": [],
   "source": [
    "lsq.conf_int(0.95)"
   ]
  },
  {
   "cell_type": "markdown",
   "metadata": {},
   "source": [
    "2. Continued.\n",
    "\n",
    "    In the output, it says that the overall slope, represented by *weight* in the table, is between 9.8000 and 9.8001.  This is based on the estimated slope from our current data.  We say:\n",
    "\n",
    "    \"We are 95% confident that the slope representing the relationship between these two variables is in (9.8000, 9.8001).\"\n",
    "\n",
    "    The margin of error is $\\frac{\\left|9.8001 - 9.8000\\right|}{2}$. <span style=\"color:purple\">Calculate this using a new code chunk below!</span>"
   ]
  },
  {
   "cell_type": "markdown",
   "metadata": {},
   "source": [
    "**Section II: Chi-Square Test ($\\chi^2$-Test)**\n",
    "\n",
    "<ins>Motivating Problem</ins> How are schools doing? \n",
    "\n",
    "The nonprofit group Public Agenda conducted telephone interviews with a stratified sample of parents of high school children. There were 202 black parents, 206 Hispanic/Latino parents, 190 Asian parents, and 201 white parents. One question asked was \"Are the high schools in your state doing an excellent, good, fair, or poor job, or don't you know enough to say?\"\n",
    "The count of responses in each category is in the table below.\n",
    "\n",
    "High School | Black parents | Hispanic parents | Asian parents | White parents\n",
    "--|--|--|--|--\n",
    "Excellent | 12 | 34 | 22 | 20\n",
    "Good | 69 | 55 | 81 | 18\n",
    "Fair | 75 | 61 | 60 | 50\n",
    "Poor | 24 | 28 | 13 | 63\n",
    "Don't Know | 22 | 28 | 14 | 50\n",
    "\n",
    "The *Chi-Square Test* helps us answer questions like\n",
    "\n",
    "1. Are the differences in the distribution of responses for the four groups of parents statistically significant?  \n",
    "2. What departures from the default hypothesis \"no relationship between ethnic group and HS opinion\" contribute most to the value of the chi-square statistic?  \n",
    "\n",
    "The chi-square test is most useful when we want to analyze the relationship between two categorical variables on one group of indiviuals (test of independence --- which we learn about here) *or* when we want to analyze the differences between groups on one categorical variable (test of homogeneity [link text](https://sites.williams.edu/bklingen/files/2012/02/R-code-for-inference-about-several-proportions.pdf))."
   ]
  },
  {
   "cell_type": "code",
   "execution_count": null,
   "metadata": {},
   "outputs": [],
   "source": [
    "# like before, we input data into a pandas data frame\n",
    "obs = np.array([[12, 34, 22, 20], [69, 55, 81, 18], [75, 61, 60, 50], [24, 28, 13, 63], [22, 28, 14, 50]])\n",
    "DF_chi = pd.DataFrame(data = obs, index = [\"Excellent\", \"Good\",\"Fair\",\"Poor\",\"Don't Know\"], columns = [\"Black\", \"Hispanic\", \"Asian\", \"White\"])"
   ]
  },
  {
   "cell_type": "markdown",
   "metadata": {},
   "source": [
    "A lot of literature will call what we just created a \"contingency table\", so you will see that Python does something similar in the next bit of code."
   ]
  },
  {
   "cell_type": "code",
   "execution_count": null,
   "metadata": {},
   "outputs": [],
   "source": [
    "# we need a completely different library for chi-square test\n",
    "from scipy.stats import chi2_contingency\n",
    "\n",
    "chi_results = chi2_contingency(DF_chi)"
   ]
  },
  {
   "cell_type": "markdown",
   "metadata": {},
   "source": [
    "<span style=\"color:purple\">What's the p-value in the chi_results</span>?"
   ]
  },
  {
   "cell_type": "code",
   "execution_count": null,
   "metadata": {},
   "outputs": [],
   "source": [
    "chi_results.pvalue"
   ]
  },
  {
   "cell_type": "markdown",
   "metadata": {},
   "source": [
    "1. Are the differences in the distribution of responses for the four groups of parents statistically significant? \n",
    "\n",
    "    Just like for linear regression, the p-value represents the probability that the default hypothesis is correct.  For this example, that hypothesis is \"The two variables are independent of one another.\"  Since the probability is so small, it is more likely that the alternative is correct \"the two variables have a dependent relationship.\"  We say:\n",
    "\n",
    "    There is statistically significant evidence that there is a relationship between \"Race\" and \"High School Rating\".\n",
    "\n",
    "Once this is established, we would like to know which categories in each variable caused this outcome.  We look at the residuals *expected counts - observed counts*"
   ]
  },
  {
   "cell_type": "code",
   "execution_count": null,
   "metadata": {},
   "outputs": [],
   "source": [
    "chi_results.expected_freq - DF_chi"
   ]
  },
  {
   "cell_type": "markdown",
   "metadata": {},
   "source": [
    "2. What departures from the default hypothesis \"no relationship between ethnic group and HS opinion\" contribute most to the value of the chi-square statistic? \n",
    "\n",
    "    Based on the residuals, we see that the residuals furthest from 0 occur in the column for white parents, with Asian and Black parents having the next greatest influence on the results."
   ]
  },
  {
   "cell_type": "markdown",
   "metadata": {},
   "source": [
    "**Section III: ANalysis Of VAriance (ANOVA)**\n",
    "\n",
    "Does age influence hearing level?  Scientists randomly sampled 20 individuals and measured their hearing levels.  The table represents the data of hearing level (kHz) across differing age groups.\n",
    "\n",
    "10-15 | 16-20 | 20-25 | 25+\n",
    "------|-------|-------|----\n",
    "22 | 18 | 17 | 15\n",
    "23 | 19 | 18 | 21\n",
    "23 | 21 | 20 | 17\n",
    "20 | 23 | 20 | 16\n",
    "19 | 21 | 19 | 17\n",
    "\n",
    "The *ANOVA test* will help answer questions like \n",
    "\n",
    "1. Is the evidence strong that there are differences in hearing level among the various groups?  \n",
    "2. What departures from the default hypothesis \"the population mean for each group is equal\" contribute the most to the p-value?  \n",
    "\n",
    "Anova test is mostly used to compare differences among groups on one quantitative variable.  That's what we'll explore in this section."
   ]
  },
  {
   "cell_type": "markdown",
   "metadata": {},
   "source": [
    "The **pandas** DataFrame needs to be set up a little differently for the function that will do the ANOVA.  Sometimes this happens!  It can be frustrating, but we need to do a little pre-processing so the data is in the form the function will accept."
   ]
  },
  {
   "cell_type": "code",
   "execution_count": null,
   "metadata": {},
   "outputs": [],
   "source": [
    "obs = np.array([[22, 18, 17, 15], [23, 19, 18, 21], [23, 21, 20, 17], [20, 23, 20, 16], [19, 21, 19, 17]])\n",
    "by_group = obs.T\n",
    "DF_anova = pd.DataFrame(data = by_group, index = [\"10-15\",\"16-20\",\"21-25\", \"25+\"])"
   ]
  },
  {
   "cell_type": "code",
   "execution_count": null,
   "metadata": {},
   "outputs": [],
   "source": []
  },
  {
   "cell_type": "markdown",
   "metadata": {},
   "source": [
    "The function we will be working with will want each of the rows of ```DF_anova``` as separate arguments.  <span style=\"color:purple\">Fill in the blanks in the code chunk below using what we learned about pandas DataFrames and accessing specified rows.</span>"
   ]
  },
  {
   "cell_type": "code",
   "execution_count": null,
   "metadata": {},
   "outputs": [],
   "source": [
    "# same library as the chi-square method\n",
    "from scipy.stats import f_oneway\n",
    "\n",
    "f_statistic, p_value = f_oneway(DF_anova.loc[DF_anova.___[0]], DF_anova.loc[DF_anova.___[1]], \n",
    "                                DF_anova.loc[DF_anova.___[2]],DF_anova.loc[DF_anova.___[3]])"
   ]
  },
  {
   "cell_type": "code",
   "execution_count": null,
   "metadata": {},
   "outputs": [],
   "source": [
    "# Determine the values for f_statistic and p_value"
   ]
  },
  {
   "cell_type": "markdown",
   "metadata": {},
   "source": [
    "We can now revisit\n",
    "\n",
    "1. Is the evidence strong that there are differences in hearing level among the various groups?\n",
    "\n",
    "    The p-value represents the probability the default hypothesis is true (which is stated above).  Since it is small (not as small as the others we've seen, but still less than 1.5%) we can say:\n",
    "\n",
    "    \"There is statistically significant evidence that there are differences among the age groups with respect to hearing level.\"\n",
    "\n",
    "We explore those differences to better understand between which groups they lie (which helps us with #2)."
   ]
  },
  {
   "cell_type": "code",
   "execution_count": null,
   "metadata": {},
   "outputs": [],
   "source": [
    "from statsmodels.stats.multicomp import pairwise_tukeyhsd\n",
    "\n",
    "\n",
    "unst_DF = DF_anova.unstack()\n",
    "unst_DF = pd.DataFrame(unst_DF).reset_index()\n",
    "unst_DF = unst_DF.drop(['level_0'], axis = 1)\n",
    "unst_DF.columns = [\"age\", \"hearing\"]\n",
    "\n",
    "unst_DF\n"
   ]
  },
  {
   "cell_type": "markdown",
   "metadata": {},
   "source": [
    "There is so much preprocessing for this next function.\n",
    "<span style=\"color:purple\">\n",
    "Bonus points to the student who can find a way to produce the same result in less lines of code!\n",
    "</span>"
   ]
  },
  {
   "cell_type": "code",
   "execution_count": null,
   "metadata": {},
   "outputs": [],
   "source": [
    "tukey = pairwise_tukeyhsd(endog = unst_DF['hearing'], groups = unst_DF['age'], alpha=0.05)"
   ]
  },
  {
   "cell_type": "markdown",
   "metadata": {},
   "source": [
    "<span style=\"color:purple\">Tell me what the line of code above is doing!  Do some research on the function.</span>"
   ]
  },
  {
   "cell_type": "code",
   "execution_count": null,
   "metadata": {},
   "outputs": [],
   "source": [
    "print(tukey)"
   ]
  },
  {
   "cell_type": "markdown",
   "metadata": {},
   "source": [
    "2. Continued.  <span style=\"color:purple\">Fill in the blanks.</span>\n",
    "\n",
    "    We can see that the \"group1\" and \"group2\" pair that had the biggest \"meandiff\" is (\\__,\\__).\n",
    "\n",
    "    We can see that the \"group1\" and \"group2\" pair that had the smallest \"p-adj\" is (\\__,\\__).\n",
    "\n",
    "    The pair that had the next smallest \"p-adj\" is (\\__,\\__).\n",
    "\n",
    "    Based on what I know about p-values, this leads me to believe that the age group pair whose hearing level differences contribute the most to the p-value result ___ in the ANOVA is __ and __.\n",
    "    \n",
    "    They are to blame for the departure from the default hypothesis \"the population mean for each group is equal\".  "
   ]
  },
  {
   "cell_type": "markdown",
   "metadata": {},
   "source": [
    "A nice *visual for Tukey HSD* comes from the code below.  It can only be used _after_ you have run the Tukey analysis."
   ]
  },
  {
   "cell_type": "code",
   "execution_count": null,
   "metadata": {},
   "outputs": [],
   "source": [
    "tukey.plot_simultaneous()"
   ]
  },
  {
   "cell_type": "markdown",
   "metadata": {},
   "source": [
    "The results of that visual are the 95% confidence intervals of the average hearing levels for each age group.  We see that the only two intervals that don't overlap are for age groups \"10-15\" and \"25+\", so it makes sense why the analysis above says that they have a statistically significant difference!"
   ]
  },
  {
   "cell_type": "markdown",
   "metadata": {},
   "source": [
    "## Concluding Quiz!\n",
    "\n",
    "<span style=\"color:purple\">Write as much as possible here</span>.  Your answers provide you guidance later during your projects.\n",
    "\n",
    "1.   What is a p-value? \n",
    "2.   When should we use linear regression?\n",
    "3.   What questions can we answer using the summary of the least squares model?\n",
    "4.   When should we use the chi-square test?\n",
    "5.   When should we use the ANOVA test?"
   ]
  }
 ],
 "metadata": {
  "kernelspec": {
   "display_name": "Python 3 (ipykernel)",
   "language": "python",
   "name": "python3"
  },
  "language_info": {
   "codemirror_mode": {
    "name": "ipython",
    "version": 3
   },
   "file_extension": ".py",
   "mimetype": "text/x-python",
   "name": "python",
   "nbconvert_exporter": "python",
   "pygments_lexer": "ipython3",
   "version": "3.9.7"
  }
 },
 "nbformat": 4,
 "nbformat_minor": 2
}
