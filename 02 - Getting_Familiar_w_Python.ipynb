{
 "cells": [
  {
   "cell_type": "markdown",
   "metadata": {},
   "source": [
    "## Notebook Topic: Getting Familiar with Python\n",
    "\n",
    "<ins>Learning Objectives</ins>\n",
    "\n",
    "1. To use logical operators for subsetting data\n",
    "\n",
    "In this course, we will be using the Python scripting language as our tool for data analysis.  Because it has become one of the most popular languages used by computational scientists; And, because it is an open source software.  That is, \n",
    "\n",
    "* anyone can contribute to the software\n",
    "* it is free\n",
    "\n",
    "Oh, and because if you list this skill on your resume, you'll automatically be more desirable than a majority of job candidates, no matter what job for which you apply.\n",
    "\n",
    "\n",
    "*Please note* that if you are using your own PC: you must have Python and Jupyter notebook installed already to follow this activity (see the **Using_Jupyer** notebook for links to videos on how to download and install)"
   ]
  },
  {
   "cell_type": "markdown",
   "metadata": {},
   "source": [
    "**Section I: Logical Operators**\n",
    "\n",
    "Logical operators are used in data analysis for selecting parts of a big data set to make a smaller data set.  This action is called **subsetting**.  So, let's get comfortable with logical operators on smaller bits of data!"
   ]
  },
  {
   "cell_type": "markdown",
   "metadata": {},
   "source": [
    "We always need to set up: \n",
    "\n",
    "* import any libraries you will need at the top of your notebook\n",
    "* declare any variables you will be using \"globally\" at the top of your notebook"
   ]
  },
  {
   "cell_type": "code",
   "execution_count": null,
   "metadata": {},
   "outputs": [],
   "source": [
    "## creating vectors/arrays \n",
    "import numpy as np\n",
    "\n",
    "x = np.array([1, 2, 3, 4])\n",
    "y = np.array([-1, 2, 3, 0])\n",
    "\n",
    "# create your own and call it Fred!\n",
    "Fred = np.array([1, 0, 0, 0])"
   ]
  },
  {
   "cell_type": "markdown",
   "metadata": {},
   "source": [
    "**Logical operators** are basically mathematical equations that result in a ```True``` or ```False```.  For example, Python would understand the sentence 2 = 3 as ```False``` because 2 is not the number 3, nor is 3 the number 2.\n",
    "\n",
    "Below we check out element-wise comparisons."
   ]
  },
  {
   "cell_type": "code",
   "execution_count": null,
   "metadata": {},
   "outputs": [],
   "source": [
    "# element-wise equivalency test for vectors\n",
    "deets = x == 3\n",
    "other_deets = x != 3 # != means not equal to\n",
    "compliment_of_deets = ~(x == 3) # ~ is the complement of a set"
   ]
  },
  {
   "cell_type": "markdown",
   "metadata": {},
   "source": [
    "<span style=\"color:purple\">Insert here what you *think* will happen.</span>  It's okay not to know yet!  Just give your best educated guess."
   ]
  },
  {
   "cell_type": "code",
   "execution_count": null,
   "metadata": {},
   "outputs": [],
   "source": [
    "# we print the results\n",
    "deets"
   ]
  },
  {
   "cell_type": "code",
   "execution_count": null,
   "metadata": {},
   "outputs": [],
   "source": [
    "# we print the results\n",
    "other_deets\n"
   ]
  },
  {
   "cell_type": "code",
   "execution_count": null,
   "metadata": {},
   "outputs": [],
   "source": [
    "# we print the results\n",
    "compliment_of_deets"
   ]
  },
  {
   "cell_type": "markdown",
   "metadata": {},
   "source": [
    "<span style=\"color:purple\">Answer these questions in this text box:</span>\n",
    "\n",
    "1. What do you notice about the actual results in comparison to your predictions?  \n",
    "2. What will you know now in the future?"
   ]
  },
  {
   "cell_type": "markdown",
   "metadata": {},
   "source": [
    "Now we'll check out vector to vector (or array to array) comparisons."
   ]
  },
  {
   "cell_type": "code",
   "execution_count": null,
   "metadata": {},
   "outputs": [],
   "source": [
    "# vector-to-vector equivalency test\n",
    "np.array_equal(other_deets, compliment_of_deets)"
   ]
  },
  {
   "cell_type": "code",
   "execution_count": null,
   "metadata": {},
   "outputs": [],
   "source": [
    "# observe the result above is a single logical outcome, but if we compared numeric data like x and y, we get something different\n",
    "x == y"
   ]
  },
  {
   "cell_type": "markdown",
   "metadata": {},
   "source": [
    "<span style=\"color:purple\">Describe the difference between the two lines of code!</span>"
   ]
  },
  {
   "cell_type": "markdown",
   "metadata": {},
   "source": [
    "**Section II: Inequalities are Logical Operators too!**\n",
    "\n",
    "Other logical operators are >, >=, <, <=  because you can use them to find elements that satisfy a particular **condition** and create a new, smaller data set.\n",
    "\n",
    "\n",
    "<span style=\"color:purple\">Test it out!  Determine which elements of x are less than 2 below in a new code chunk inserted directly below this text box.</span>"
   ]
  },
  {
   "cell_type": "code",
   "execution_count": null,
   "metadata": {},
   "outputs": [],
   "source": [
    "# Now, if we wanted to COUNT the number of elements in an array that satisfy a condition, \n",
    "# we can use one of the numpy math functions.  \n",
    "# Example:\n",
    "(y < 1).sum()"
   ]
  },
  {
   "cell_type": "markdown",
   "metadata": {},
   "source": [
    "<span style=\"color:purple\">Is the count one you were expecting?</span>  y... or y not?  XP"
   ]
  },
  {
   "cell_type": "markdown",
   "metadata": {},
   "source": [
    "Other logical operators are ```!```, ```&```, ```|```.\n",
    "\n",
    "We used ```!``` earlier as part of ```!=```, which meant \"not equal to\".  \n",
    "\n",
    "<span style=\"color:purple\">How was it used before?  How is it being used below?  Insert your answer into a new text box below the code chunk.</span>"
   ]
  },
  {
   "cell_type": "code",
   "execution_count": null,
   "metadata": {},
   "outputs": [],
   "source": [
    "x != y"
   ]
  },
  {
   "cell_type": "markdown",
   "metadata": {},
   "source": [
    "Remember from Geometry, sometimes we want to know when N things are true at the same time.  \n",
    "In the code chunk below, we should expect it to return ```True``` where both x and y are less than 2 and return ```False``` when either one is greater than equal to 2.  \n",
    "\n",
    "\n",
    "<span style=\"color:purple\">You should determine the logic output on your own before running the code!  We can't truly understand what a computer does until we've done it ourselves.</span>"
   ]
  },
  {
   "cell_type": "code",
   "execution_count": null,
   "metadata": {},
   "outputs": [],
   "source": [
    "(x < 2) & (y < 2)"
   ]
  },
  {
   "cell_type": "markdown",
   "metadata": {},
   "source": [
    "While ```&``` represents the intersection of two sets, ```|``` represents the union of two sets.\n",
    "\n",
    "Remember from Geometry, sometimes we want to know when at least one of the N things is true.\n",
    "In the code below, we should expect it to return ```True``` where either x or y are less than 2 and return ```False``` when both are greater than equal to 2.\n",
    "\n",
    "<span style=\"color:purple\">You should determine the logic output on your own before running the code!</span>"
   ]
  },
  {
   "cell_type": "code",
   "execution_count": null,
   "metadata": {},
   "outputs": [],
   "source": [
    "(x < 2) | (y < 2)"
   ]
  },
  {
   "cell_type": "markdown",
   "metadata": {},
   "source": [
    "## Conclusion\n",
    "\n",
    "<span style=\"color:purple\">Name at least four different things you *think* you were __meant__ to learn from this notebook.</span>"
   ]
  },
  {
   "cell_type": "markdown",
   "metadata": {},
   "source": [
    "**Note** I highly recommend you read Chapter 1-3 for an alternative introduction to Python and Jupyter notebooks."
   ]
  }
 ],
 "metadata": {
  "kernelspec": {
   "display_name": "Python 3 (ipykernel)",
   "language": "python",
   "name": "python3"
  },
  "language_info": {
   "codemirror_mode": {
    "name": "ipython",
    "version": 3
   },
   "file_extension": ".py",
   "mimetype": "text/x-python",
   "name": "python",
   "nbconvert_exporter": "python",
   "pygments_lexer": "ipython3",
   "version": "3.9.7"
  }
 },
 "nbformat": 4,
 "nbformat_minor": 2
}
