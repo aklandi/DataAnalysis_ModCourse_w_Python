{
 "cells": [
  {
   "cell_type": "markdown",
   "metadata": {},
   "source": [
    "# **Data Visualization For The Win**\n",
    "\n",
    "Learning Objectives:\n",
    "\n",
    "1. To define quantitative variables\n",
    "2. To graph quantitative variables\n",
    "3. To define categorical variables\n",
    "4. To graph categorical variables\n",
    "5. To graph relationships between two variables\n",
    "\n",
    "In this notebook, we'll review many of the ways in which we've visualized data in the past and we'll discuss how to choose the right one depending on our data.  Everyone loves a picture!  So, it's helpful to know how to give the people what they want."
   ]
  },
  {
   "cell_type": "code",
   "execution_count": null,
   "metadata": {},
   "outputs": [],
   "source": [
    "# import all libraries we've needed in the past\n",
    "import numpy as np\n",
    "import scipy as sp\n",
    "import pandas as pd\n",
    "import matplotlib.pyplot as plt\n",
    "import seaborn as sns\n",
    "\n",
    "from pydataset import data"
   ]
  },
  {
   "cell_type": "markdown",
   "metadata": {},
   "source": [
    "**Section I: Quantitative Variables**\n",
    "\n",
    "A <u>quantitative variable</u> is a variable with a _unit of measurement_.  For example, the income of a country in a given year in US dollars is a quantitative variable.  Another example would be the number of people in a given country infected with COVID-19 during 2020.  These two examples are two different types of quantitative variables:\n",
    "\n",
    "* Continuous: income in US dollars is a continuous quantitative variable because US dollars is a continuous unit of measurement.\n",
    "* Discrete: number of people infected with COVID-19 is a discrete quantitative variable because number of people is a discrete unit of measurement.\n",
    "\n",
    "We will cover illustrations in this section for continuous quantitative data only.\n"
   ]
  },
  {
   "cell_type": "markdown",
   "metadata": {},
   "source": [
    "**Section I(a): Continuous Quatitative Variables**\n",
    "\n",
    "Let's go back to ```data_for_tomorrow.xlsx``` so we can analyze its continuous variables \"GDP Growth\" and \"GDP Per Capita\"."
   ]
  },
  {
   "cell_type": "code",
   "execution_count": null,
   "metadata": {},
   "outputs": [],
   "source": [
    "DF = pd.read_excel(____) # fill in blank with name of file\n",
    "DF.____() #explore the first set of rows of the data"
   ]
  },
  {
   "cell_type": "markdown",
   "metadata": {},
   "source": [
    "For a single quantiative variable, we want to create a histogram."
   ]
  },
  {
   "cell_type": "code",
   "execution_count": null,
   "metadata": {},
   "outputs": [],
   "source": [
    "# get familiar with the columns\n",
    "DF['GDP per capita (Current US$)']"
   ]
  },
  {
   "cell_type": "code",
   "execution_count": null,
   "metadata": {},
   "outputs": [],
   "source": [
    "DF[____] # fill in blank with the other quantitative variable column name"
   ]
  },
  {
   "cell_type": "code",
   "execution_count": null,
   "metadata": {},
   "outputs": [],
   "source": [
    "# identify the location of those meaningless dotdots\n",
    "indx = DF['GDP per capita (Current US$)'] != '..'"
   ]
  },
  {
   "cell_type": "code",
   "execution_count": null,
   "metadata": {},
   "outputs": [],
   "source": [
    "# create a histogram from the real data (everything BUT the dots) with only 3 subintervals (the overall interval is from min GDP to max GDP)\n",
    "DF['GDP per capita (Current US$)'][indx].plot(kind = 'hist', title = 'GDP per capita (US$)', bins = 3)\n",
    "# add an x axis label\n",
    "plt.xlabel('GDP Per Capita US$')"
   ]
  },
  {
   "cell_type": "markdown",
   "metadata": {},
   "source": [
    "This histogram is considered to be *right skewed* or *positively skewed* because it is taller on the left and has a \"tail\" on the right.  This indicates that a majority of countries make less than 40000 US$ per year.\n",
    "\n",
    "If the \"tail\" were on the left, we'd call the graph *left skewed* or *negatively skewed*.  And we'd interpret it to be the majority of countries make more than 40000 US$ per year.\n",
    "\n",
    "Another common shape we may see is *roughly symmetric*.  This would indicate that there is a skew on both sides, and there is a symmetry in representation of countries who make more then or lesser than the average in income.\n",
    "\n",
    "**Note** any of this can change depending on the number of bins you select!  You should play around with that number and check out how the shape of the graph changes.  This is why you should _always_ also include the overall description of the variable, using the ```describe()``` function we learned earlier in the term."
   ]
  },
  {
   "cell_type": "code",
   "execution_count": null,
   "metadata": {},
   "outputs": [],
   "source": [
    "# notice the need for astype(float) despite the fact the data is already float64 <-- beware of funky Python data types and the errors they cause\n",
    "DF['GDP per capita (Current US$)'][indx].astype(float).describe()"
   ]
  },
  {
   "cell_type": "markdown",
   "metadata": {},
   "source": [
    "Since the mean is 21264 and the median is 7515, and since the mean is significantly influenced by extreme values while the median is robust and splits the data into 50-50, we would say that the data **is** actually right-skewed as the original graph indicated.  \n",
    "\n",
    "We did chat about this in Notebook 06, so you might review the numerical analysis there.\n",
    "\n",
    "And don't forget we learned about boxplots in Notebook 06, which can also be a helpful way to graph continuous quantitative data."
   ]
  },
  {
   "cell_type": "code",
   "execution_count": null,
   "metadata": {},
   "outputs": [],
   "source": [
    "DF['GDP per capita (Current US$)'][indx].plot(kind = 'box', title = 'GDP per capita (US$)')"
   ]
  },
  {
   "cell_type": "markdown",
   "metadata": {},
   "source": [
    "<span style=\"color:purple\">Follow the same process above and make a histogram for GDP growth %.  Describe the graph.  Do all of this in code chunks <u>under</u> this text box but before **Section II**. You will need to do that as data analysts, and on your final project.</span>"
   ]
  },
  {
   "cell_type": "markdown",
   "metadata": {},
   "source": [
    "**Section II: Categorical Variables**\n",
    "\n",
    "A _categorical variable_ is a variable that categorizes individual data points.  For example, the act of labeling a country \"developed\" or \"developing\" based on the income of a country in a given year in US dollars is a categorical variable.  Another example would be categorizing countries as \"low-risk\", \"medium-risk\", and \"high-risk\" for travel based on the number of people in a given country infected with COVID-19 during 2020.  \n",
    "\n",
    "Often, visualizations involving categorical variables will illustrate _the counts_ of each category.  We'll continue working with data_for_tomorrow.xlsx since we have many categorical variables there.  We will first create a pie chart and then we'll create a bar graph.\n"
   ]
  },
  {
   "cell_type": "markdown",
   "metadata": {},
   "source": [
    "**Section II(a): Pie Charts**\n",
    "\n",
    "We'll first randomly select one of the existing categorical variables (or questions that label countries based on their 'Yes' or 'No' answers)."
   ]
  },
  {
   "cell_type": "code",
   "execution_count": null,
   "metadata": {},
   "outputs": [],
   "source": [
    "# this will randomly choose 1 number between 1 and 8\n",
    "i = np.random.choice(range(1,9),1)[0]\n",
    "# we want that column name for future references\n",
    "column_title = DF.columns[i]\n",
    "# let's now count the number of countries that get 1 or 0 for their answer to i's question\n",
    "X1 = DF.iloc[:,[0,i]].groupby(column_title).count()"
   ]
  },
  {
   "cell_type": "code",
   "execution_count": null,
   "metadata": {},
   "outputs": [],
   "source": [
    "# we'll create a pie chart of the 1's and 0's, we'll include the percentages, we'll title the graph (because all graphs need a title)\n",
    "X1.plot(kind = 'pie', y = 'Country Name', autopct='%1.0f%%', pctdistance=0.8, title = column_title, labels=['',''])\n",
    "# and we'll modify the legend so that is tells us which color goes with 1 and which color goes with 0\n",
    "plt.legend(labels = X1.index)"
   ]
  },
  {
   "cell_type": "markdown",
   "metadata": {},
   "source": [
    "This pie chart indicates that ________________. <span style=\"color:purple\">Fill in the blank with the conclusion you think the pie chart provides us about the data.</span>"
   ]
  },
  {
   "cell_type": "markdown",
   "metadata": {},
   "source": [
    "Note, there may come a time we need to create our own categorical variables based on quantitative data.  We will do this with ```data_for_tomorrow.xlsx``` by classifying countries as \"developing\" or \"developed\" based on their GDP per capita.  Wiki says a developing country makes less than $14000 USD for GDP per capita, so we'll use that threshold."
   ]
  },
  {
   "cell_type": "code",
   "execution_count": null,
   "metadata": {},
   "outputs": [],
   "source": [
    "j = DF['GDP per capita (Current US$)'][~indx].index # give me the row indexes at all the rows where GDP per capita has a real value\n",
    "DF['GDP per capita (Current US$)'][j] = 0 # now I want to set those values to be equal to 0 so I don't have to deal with strings\n"
   ]
  },
  {
   "cell_type": "code",
   "execution_count": null,
   "metadata": {},
   "outputs": [],
   "source": [
    "# turn the entire column into floats because the code chunk below won't work otherwise (dang Python data type restrictions)\n",
    "DF['GDP per capita (Current US$)'] = DF['GDP per capita (Current US$)'].astype('float')"
   ]
  },
  {
   "cell_type": "code",
   "execution_count": null,
   "metadata": {},
   "outputs": [],
   "source": [
    "conditions = [\n",
    "    (DF['GDP per capita (Current US$)'] < 14000),\n",
    "    (DF['GDP per capita (Current US$)'] >= 14000)\n",
    "]\n",
    "\n",
    "values = ['developing', 'developed']\n",
    "\n",
    "# create a new column called Status so that it is developing when GDP < 14000 and it is developed when GDP >= 14000\n",
    "DF['Status'] = np.select(conditions, values)"
   ]
  },
  {
   "cell_type": "code",
   "execution_count": null,
   "metadata": {},
   "outputs": [],
   "source": [
    "# create a pie chart that determines how many countries in our sample are developing and how many are developed\n",
    "data_I_care_about = DF.groupby('Status').count()\n",
    "data_I_care_about.plot.pie(y = 'Country Name', title = 'Developing by Wiki', autopct='%1.0f%%', pctdistance=0.8, labels=['',''])\n",
    "plt.legend(labels = data_I_care_about.index)"
   ]
  },
  {
   "cell_type": "markdown",
   "metadata": {},
   "source": [
    "This pie chart indicates that a majority of the countries in our sample data are classified as \"developing\"."
   ]
  },
  {
   "cell_type": "markdown",
   "metadata": {},
   "source": [
    "<span style=\"color:purple\"> (a) Choose another variable in the data set and follow the same process above and make a pie chart.  Describe the graph.  (b) Create your own variable based on GDP growth (annual %) and graph that as well.  Describe the graph. </span>"
   ]
  },
  {
   "cell_type": "markdown",
   "metadata": {},
   "source": [
    "**Section II(b): Bar Graphs**\n",
    "\n",
    "Bar graphs are a nice alternative to pie charts.  They're used when we don't have data on each part of a whole.  For example, we took a sample of 100 people and asked them their favorite color.  In the table below is the data we collected.\n",
    "\n",
    "| Favorite Color | Number of People |\n",
    "| -------------- | ---------------- |\n",
    "| Red | 34 |\n",
    "| White | 1 |\n",
    "| Blue | 22 |\n",
    "| Brown | 11 |\n",
    "| ----- | -- |\n",
    "| Total |  |\n",
    "\n",
    "We are missing data for some people.  It's easier for us to just create a bar graph rather than deal with making things out of 100%.  We'll practice this with the same two variables from the previous section."
   ]
  },
  {
   "cell_type": "code",
   "execution_count": null,
   "metadata": {},
   "outputs": [],
   "source": [
    "X1.plot(kind = 'bar', title = column_title, xlabel = ' ', ylabel = 'Frequency')"
   ]
  },
  {
   "cell_type": "code",
   "execution_count": null,
   "metadata": {},
   "outputs": [],
   "source": [
    "data_I_care_about.plot.bar(y = 'Country Name', title = 'Developing by Wiki', legend = False)"
   ]
  },
  {
   "cell_type": "markdown",
   "metadata": {},
   "source": [
    "Nothing new to note about the insights, they just look better for some data.  However, if you'd like to get creative with colors, you might check out [the available colors](https://datascientyst.com/full-list-named-colors-pandas-python-matplotlib/) and learn to modify the bar graphs above to change that blue."
   ]
  },
  {
   "cell_type": "markdown",
   "metadata": {},
   "source": [
    "**Section I(b): Discrete Quantiative Variables**\n",
    "\n",
    "The illustrations of variables like number of people are very similar to categorical illustrations, but the horizontal axis represents numbers as opposed to categories.  We would use a bar graph for these variables, not a pie chart.\n",
    "\n",
    "Consider the data for number of flying saucer sightings.\n",
    "\n",
    "| State | Number of sightings |\n",
    "| -------------- | ---------------- |\n",
    "| MA | 3 |\n",
    "| VT | 1 |\n",
    "| NY | 2 |\n",
    "| NH | 1 |\n",
    "\n",
    "We will create a barplot representing this discrete data just so you can see the difference."
   ]
  },
  {
   "cell_type": "code",
   "execution_count": null,
   "metadata": {},
   "outputs": [],
   "source": [
    "# this is how to create a data frame that looks like the table above\n",
    "data_frame = pd.DataFrame(data = [['MA', 3], ['VT', 1], ['NY', 2], ['NH',1]], columns=['state', 'sightings'])"
   ]
  },
  {
   "cell_type": "code",
   "execution_count": null,
   "metadata": {},
   "outputs": [],
   "source": [
    "data_frame.groupby('sightings').count().plot(kind = 'bar', xlabel = 'No. of Sightings', ylabel = 'No. of States', legend = False)"
   ]
  },
  {
   "cell_type": "markdown",
   "metadata": {},
   "source": [
    "<span style=\"color:purple\">  Describe what you observe here.</span>"
   ]
  },
  {
   "cell_type": "markdown",
   "metadata": {},
   "source": [
    "**Section III: Relationships between Variables**\n",
    "\n",
    "Here are my recommendations for exploring the relationships between:\n",
    "\n",
    "* two quantitative variables: use the scatterplot we learned about in notebook 08.\n",
    "* two categorical variables: use the heatmap we learned about in notebook 06.\n",
    "* one quantitative variable and one categorical variable: a boxplot is a good choice (one boxplot per category on the same graph)\n",
    "\n",
    "Below is a reminder of how to do each of these with the ```data_for_tomorrow.xlsx``` data set."
   ]
  },
  {
   "cell_type": "markdown",
   "metadata": {},
   "source": [
    "**Two Quantitative Variables: GDP per Capita v. GDP growth**"
   ]
  },
  {
   "cell_type": "code",
   "execution_count": null,
   "metadata": {},
   "outputs": [],
   "source": [
    "# remove any string instances\n",
    "DF[DF['GDP growth (annual %)'] == '..'] = 0"
   ]
  },
  {
   "cell_type": "code",
   "execution_count": null,
   "metadata": {},
   "outputs": [],
   "source": [
    "DF.plot(kind = 'scatter', x = \"GDP per capita (Current US$)\", y = \"GDP growth (annual %)\", c = \"black\", title = \"Annual Growth % v. Exact Amount\")"
   ]
  },
  {
   "cell_type": "markdown",
   "metadata": {},
   "source": [
    "Not a very linear relationship.  But it is kind of hovering at y = 3.2%."
   ]
  },
  {
   "cell_type": "code",
   "execution_count": null,
   "metadata": {},
   "outputs": [],
   "source": [
    "DF.plot(kind = 'scatter', x = \"GDP per capita (Current US$)\", y = \"GDP growth (annual %)\", c = \"black\", title = \"Annual Growth % v. Exact Amount\")\n",
    "# add a horizontal line to emphasize what I noticed\n",
    "plt.axhline(y = 3.2, color = 'r')"
   ]
  },
  {
   "cell_type": "markdown",
   "metadata": {},
   "source": [
    "**Two Categorical Variables: Status and Working at Night**"
   ]
  },
  {
   "cell_type": "code",
   "execution_count": null,
   "metadata": {},
   "outputs": [],
   "source": [
    "sub = DF.groupby(by = ['Status', column_title]).size()"
   ]
  },
  {
   "cell_type": "code",
   "execution_count": null,
   "metadata": {},
   "outputs": [],
   "source": [
    "sub"
   ]
  },
  {
   "cell_type": "code",
   "execution_count": null,
   "metadata": {},
   "outputs": [],
   "source": [
    "# exactly what we did in NB 06\n",
    "sub = pd.DataFrame(sub)\n",
    "setup_heatmap = sub.pivot_table(columns= 'Status', index = column_title) # creates a table with counts of data points that fall into the intersection of categories\n",
    "T = sns.heatmap(setup_heatmap, annot = True, xticklabels=['NA', 'developed', 'developing']) # initialize the heat map\n",
    "T.set(xlabel = \"Status of Country\", ylabel = \"Work at Night\", title = \"Does Development Influence Women's Ability to Work at Night?\") # add labels and title to heat map"
   ]
  },
  {
   "cell_type": "markdown",
   "metadata": {},
   "source": [
    "**One Quantitative Variable and One Categorical Variable: GDP per capita v. Status**"
   ]
  },
  {
   "cell_type": "code",
   "execution_count": null,
   "metadata": {},
   "outputs": [],
   "source": [
    "sns.boxplot(x = \"Status\", y = \"GDP per capita (Current US$)\", data = DF)"
   ]
  },
  {
   "cell_type": "markdown",
   "metadata": {},
   "source": [
    "**Conclusion**\n",
    "\n",
    "There are many more ways to visualization than we covered here.  In fact, there are ways to visualize data that haven't even been invented yet!  For the graphics that do exist but we haven't covered here, you might have to use the internet to learn how to do them in Python, so please get comfortable with that fact.\n",
    "\n",
    "Here are some resources that may be helpful:\n",
    "\n",
    "* [pandas visualization cheatsheet](https://regenerativetoday.com/a-complete-cheat-sheet-for-data-visualization-in-pandas/)\n",
    "* [how to select the appropriate data visualization](https://www.data-to-viz.com/)"
   ]
  }
 ],
 "metadata": {
  "kernelspec": {
   "display_name": "base",
   "language": "python",
   "name": "python3"
  },
  "language_info": {
   "codemirror_mode": {
    "name": "ipython",
    "version": 3
   },
   "file_extension": ".py",
   "mimetype": "text/x-python",
   "name": "python",
   "nbconvert_exporter": "python",
   "pygments_lexer": "ipython3",
   "version": "3.10.13"
  },
  "orig_nbformat": 4
 },
 "nbformat": 4,
 "nbformat_minor": 2
}
