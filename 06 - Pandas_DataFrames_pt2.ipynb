{
 "cells": [
  {
   "cell_type": "markdown",
   "metadata": {},
   "source": [
    "## Notebook Topic: Getting More Advanced with **pandas**\n",
    "\n",
    "<ins>Learning Objectives</ins>\n",
    "\n",
    "1. To analyze a real dataset using more sophisticated **pandas** techniques"
   ]
  },
  {
   "cell_type": "markdown",
   "metadata": {},
   "source": [
    "**Section I: Loading Data from Python**\n",
    "\n",
    "Python gives us access to 757 datasets that are nice and clean.  Perfect for learning more **pandas** analysis techniques!  We just need to access the right library."
   ]
  },
  {
   "cell_type": "code",
   "execution_count": 108,
   "metadata": {},
   "outputs": [],
   "source": [
    "# import necessary libraries\n",
    "import numpy as np\n",
    "import matplotlib.pyplot as plt\n",
    "import pandas as pd\n",
    "\n",
    "# for sample data, 757 sets\n",
    "from pydataset import data\n",
    "\n",
    "# for visualization later!\n",
    "import seaborn as sns"
   ]
  },
  {
   "cell_type": "markdown",
   "metadata": {},
   "source": [
    "We can view all the datasets with the following code"
   ]
  },
  {
   "cell_type": "code",
   "execution_count": null,
   "metadata": {},
   "outputs": [],
   "source": [
    "data()"
   ]
  },
  {
   "cell_type": "markdown",
   "metadata": {},
   "source": [
    "Let's just look at a handful of the datasets and then pick one."
   ]
  },
  {
   "cell_type": "code",
   "execution_count": null,
   "metadata": {},
   "outputs": [],
   "source": [
    "d = data()\n",
    "d.head(10) # will give us the first 10 rows of information"
   ]
  },
  {
   "cell_type": "code",
   "execution_count": null,
   "metadata": {},
   "outputs": [],
   "source": [
    "d[:][30:40] # will give us the information at rows 30 to 40"
   ]
  },
  {
   "cell_type": "code",
   "execution_count": null,
   "metadata": {},
   "outputs": [],
   "source": [
    "DF = data('esoph') # we'll select the esoph data\n",
    "type(DF) # check that it is a pandas dataframe; if not, cast it as a pandas dataframe"
   ]
  },
  {
   "cell_type": "markdown",
   "metadata": {},
   "source": [
    "Usually, to find more information about functions in Python, we could use the ```help()``` function.  But, to find out more about the datasets in the *pydataset* library, we can't use this method.\n",
    "\n",
    "Luckily, many of these datasets are from the statistical programming software called **R**.  So, we can find out more information from its [website](https://rdrr.io/r/datasets/esoph.html).\n",
    "\n",
    "You may need to also search the general internet to find more information about the data.\n",
    "\n",
    "<span style=\"color:purple\">Use this space in the text box to tell me more about the data.  </span>"
   ]
  },
  {
   "cell_type": "markdown",
   "metadata": {},
   "source": [
    "**Section II: Exploring a Dataset using pandas**\n",
    "\n",
    "In this section, we'll explore the *esoph* dataset using the **pandas** library."
   ]
  },
  {
   "cell_type": "markdown",
   "metadata": {},
   "source": [
    "**Subsection IIa: Describe and Boxplots**"
   ]
  },
  {
   "cell_type": "markdown",
   "metadata": {},
   "source": [
    "We may have noticed before that the *esoph* data had three categorical variables (agegp, alcgp, tobgp) and two quantitative variables (ncases, ncontrols).\n",
    "\n",
    "For quantitative data, we may want to know a summary of its data.  We do this by the ```*.describe()``` function."
   ]
  },
  {
   "cell_type": "code",
   "execution_count": null,
   "metadata": {},
   "outputs": [],
   "source": [
    "DF.describe()"
   ]
  },
  {
   "cell_type": "markdown",
   "metadata": {},
   "source": [
    "Notice that ```*.describe()``` only examines the quantitative variables, and it provides an overview of\n",
    "\n",
    "* count information <-- number of rows in this case\n",
    "* the mean of the column (or, average number of cases)\n",
    "* the standard deviation of the column (or, how each data point differs from the average number of cases)\n",
    "* the minimum value in the column\n",
    "* the first quartile, which is greater than 25% of the data points\n",
    "* the second quartile, or median, which is greater than 50% of the data points\n",
    "* the third quartile, which is greater than 75% of the data points\n",
    "* the maximum value in the column"
   ]
  },
  {
   "cell_type": "markdown",
   "metadata": {},
   "source": [
    "In statistics, we call (min, Q1, Q2/Median, Q3, max) the <ins>five number summary</ins>.  From this five number summary, we can say whether there is more data on the lower end (if the median is closer to Q1 than it is to Q3), whether there is more data on the upper end (if the median is closer to Q3 than it is to Q1), or whether the data is roughly symmetric (the first and third quartiles are approximately the same distance from the median).  Let's check!"
   ]
  },
  {
   "cell_type": "code",
   "execution_count": null,
   "metadata": {},
   "outputs": [],
   "source": [
    "diff_lower = DF['ncases'].quantile(0.50) - DF['ncases'].quantile(0.25)\n",
    "diff_upper = DF['ncases'].quantile(0.75) - DF['ncases'].quantile(0.50)\n",
    "\n",
    "print('The distance between Q3 and M is ', diff_upper, '\\n and the distance between Q1 and M is ', diff_lower)"
   ]
  },
  {
   "cell_type": "markdown",
   "metadata": {},
   "source": [
    "<span style=\"color:purple\">So, where is the bulk of the data??</span>"
   ]
  },
  {
   "cell_type": "markdown",
   "metadata": {},
   "source": [
    "We can visualize the same five number summary relatively easy because we are working with a pandas dataframe.  The graph of a five number summary is called a <ins>boxplot</ins>."
   ]
  },
  {
   "cell_type": "code",
   "execution_count": null,
   "metadata": {},
   "outputs": [],
   "source": [
    "DF.boxplot('ncases')"
   ]
  },
  {
   "cell_type": "markdown",
   "metadata": {},
   "source": [
    "Notice how the graph demonstrates that *ncases* has more data on the lower end of the numerical spectrum."
   ]
  },
  {
   "cell_type": "markdown",
   "metadata": {},
   "source": [
    "**Subsection IIb: Histograms**"
   ]
  },
  {
   "cell_type": "markdown",
   "metadata": {},
   "source": [
    "Perhaps instead of the five number summary and its boxplot, we want to look at the sample's distribution (or overall shape).  In statistics, we'd use a histogram for that."
   ]
  },
  {
   "cell_type": "code",
   "execution_count": null,
   "metadata": {},
   "outputs": [],
   "source": [
    "DF.hist('ncases')"
   ]
  },
  {
   "cell_type": "markdown",
   "metadata": {},
   "source": [
    "The histogram demonstrates, once again, that a majority of the data provided is between 0 and 2.5 cases.  So, this implies to us, the analysts, that most of the data frame contains useless information.\n",
    "\n",
    "Why?  Because *ncases* is the number of cases of patients that actually had a row's particular combination of (agegp, alcgp, tobgp).  So, it would behoove us to eliminate these rows and make our data smaller for a more meaningful analysis!"
   ]
  },
  {
   "cell_type": "markdown",
   "metadata": {},
   "source": [
    "**Subsection <span style=\"color:blue\">For You To Create</span>**\n",
    "\n",
    "Create a new section (above the next subsection but below the *ncases* analysis) in which you analyze the *ncontrols* variable using ```*.describe()``` and ```*.boxplot()``` and ```*.hist()```."
   ]
  },
  {
   "cell_type": "markdown",
   "metadata": {},
   "source": [
    "**Subsection IIc: Removing Data**\n",
    "\n",
    "We will remove all the rows that contain 0 *ncases*."
   ]
  },
  {
   "cell_type": "code",
   "execution_count": 56,
   "metadata": {},
   "outputs": [],
   "source": [
    "# identify where in ncases there are 0's\n",
    "indx = DF[DF['ncases'] == 0].index\n",
    "# drop those rows\n",
    "new_DF = DF.drop(indx)"
   ]
  },
  {
   "cell_type": "markdown",
   "metadata": {},
   "source": [
    "**Subsection IId. Grouping Data**\n",
    "\n",
    "Now we can analyze (agegp, alcgp, tobgp) more meaningfully."
   ]
  },
  {
   "cell_type": "code",
   "execution_count": 69,
   "metadata": {},
   "outputs": [],
   "source": [
    "# sort the rows based on ncases, from largest number to smallest number\n",
    "top_30_cases = new_DF.sort_values('ncases', ascending = False)\n",
    "# take the top 30 cases to analyze\n",
    "top_30_cases = top_30_cases[0:30]\n",
    "top_30_cases"
   ]
  },
  {
   "cell_type": "markdown",
   "metadata": {},
   "source": [
    "We can observe that many of these top 30 cases are older.  Let's check in a more efficient way: we will group by age group, and then we will count how many of each age group occurs."
   ]
  },
  {
   "cell_type": "code",
   "execution_count": null,
   "metadata": {},
   "outputs": [],
   "source": [
    "top_30_cases.groupby(by = ['agegp']).size()"
   ]
  },
  {
   "cell_type": "markdown",
   "metadata": {},
   "source": [
    "<span style=\"color:purple\">What do you observe??  Insert observations here.</span>"
   ]
  },
  {
   "cell_type": "markdown",
   "metadata": {},
   "source": [
    "Just like quantitative variables, there are nice ways to graph categorical data.  We like to use barplots."
   ]
  },
  {
   "cell_type": "code",
   "execution_count": null,
   "metadata": {},
   "outputs": [],
   "source": [
    "# save previous line as variable to be accessed by graphing function\n",
    "subset = top_30_cases.groupby(by = ['agegp']).size()\n",
    "# graph the data\n",
    "subset.plot.bar(x = 'agegp')"
   ]
  },
  {
   "cell_type": "markdown",
   "metadata": {},
   "source": [
    "<span style=\"color:purple\">What do you observe??  Insert observations here.</span>"
   ]
  },
  {
   "cell_type": "markdown",
   "metadata": {},
   "source": [
    "The study focuses on patients who have cancer, and they observe their alcohol and tobacco habits.  So, let's see which habit combination is the most frequent!"
   ]
  },
  {
   "cell_type": "code",
   "execution_count": null,
   "metadata": {},
   "outputs": [],
   "source": [
    "# group by alcohol and tobacco habits and count the number of occurrences\n",
    "sub = top_30_cases.groupby(by = ['alcgp', 'tobgp']).size()\n",
    "sub"
   ]
  },
  {
   "cell_type": "markdown",
   "metadata": {},
   "source": [
    "It seems like there aren't combinations that have a significantly higher frequency compared to others.  So, perhaps we can create a graphic that summarizes all observations nicely.\n",
    "\n",
    "First, notice ```sub``` is not a pandas dataframe."
   ]
  },
  {
   "cell_type": "code",
   "execution_count": null,
   "metadata": {},
   "outputs": [],
   "source": [
    "type(sub) # not a pandas dataframe"
   ]
  },
  {
   "cell_type": "markdown",
   "metadata": {},
   "source": [
    "So, to take advantage of DataFrame's abilities, we need to change that."
   ]
  },
  {
   "cell_type": "code",
   "execution_count": 110,
   "metadata": {},
   "outputs": [],
   "source": [
    "sub = pd.DataFrame(sub) # cast as pandas dataframe"
   ]
  },
  {
   "cell_type": "markdown",
   "metadata": {},
   "source": [
    "Now, we'll create a graph called a <ins>heatmap</ins>, which is an $n\\times n$ grid, where the rows are notated by one of our variables (we'll use the alcohol consumption) and the columns are notated by the other variable (the tobacco consumption), and the values inside the grid will represent the number of cases of patients who consumes alcohol and tabacco at that level."
   ]
  },
  {
   "cell_type": "code",
   "execution_count": null,
   "metadata": {},
   "outputs": [],
   "source": [
    "# make a table\n",
    "top_30_heatmap = sub.pivot_table(index = 'alcgp', columns = 'tobgp')\n",
    "# visualize the table\n",
    "sns.heatmap(top_30_heatmap, annot = True)"
   ]
  },
  {
   "cell_type": "markdown",
   "metadata": {},
   "source": [
    "<span style=\"color:purple\">Describe the graphic here.</span>"
   ]
  },
  {
   "cell_type": "markdown",
   "metadata": {},
   "source": [
    "**Section III: Synthesizing**\n",
    "\n",
    "<span style=\"color:purple\">Select a different dataset from the *pydataset* library, and then use the R website to find information on where it came from.  Then insert what you learn below in this text box.</span>"
   ]
  },
  {
   "cell_type": "markdown",
   "metadata": {},
   "source": [
    "## Conclusion\n",
    "\n",
    "<span style=\"color:purple\">Summarize what pandas skills you learned in this really, *really* long notebook.</span>"
   ]
  },
  {
   "cell_type": "markdown",
   "metadata": {},
   "source": [
    "**Note:** You should read chapter 5 for even more information on cool attributes of pandas DataFrames.  Even with this second, longer notebook, we've only scratched the surface."
   ]
  }
 ],
 "metadata": {
  "kernelspec": {
   "display_name": "base",
   "language": "python",
   "name": "python3"
  },
  "language_info": {
   "codemirror_mode": {
    "name": "ipython",
    "version": 3
   },
   "file_extension": ".py",
   "mimetype": "text/x-python",
   "name": "python",
   "nbconvert_exporter": "python",
   "pygments_lexer": "ipython3",
   "version": "3.8.10"
  },
  "orig_nbformat": 4
 },
 "nbformat": 4,
 "nbformat_minor": 2
}
