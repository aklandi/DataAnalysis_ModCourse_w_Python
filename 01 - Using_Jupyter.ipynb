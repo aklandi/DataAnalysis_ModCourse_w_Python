{
 "cells": [
  {
   "cell_type": "markdown",
   "metadata": {},
   "source": [
    "## Notebook Topic: Using Jupyter Notebook \n",
    "\n",
    "<ins> Learning Objectives </ins>\n",
    "\n",
    "1. To edit a Jupyter notebook\n",
    "\n",
    "In this course, we will be using Jupyter Notebook for Python programming.  Because we can compile and run code, line by line, which allows us to see results and debug more quickly; Because Jupyter notebooks are common in the scientific computing community, so the comfort you will gain this semester will be marketable.\n",
    "\n",
    "*Please note* that if you are using your own PC: you must have Python and Jupyter notebook installed already to follow this activity."
   ]
  },
  {
   "cell_type": "markdown",
   "metadata": {},
   "source": [
    "## Editing in the Notebook\n",
    "\n",
    "**Section I: How to Edit Pre-Existing TEXT Cells**\n",
    "\n",
    "Step 1: Double ***left***-click.  \n",
    "- A text box will have **bold**, *italics*, and [link](httpe://www.simons-rock.edu) like you might recognize from other text editors. Jupyter notebook uses \"Markdown\".  \n",
    "\n",
    "    * You do not need to be a \"Markdown\" expert to write in a Jupyter notebook.  Feel free to play around with the styling options available so that your notebook looks as **clean** to you as possible (we always want clean writing for readability!).\n",
    "    \n",
    "    * A [Markdown Cheatsheet](https://www.markdownguide.org/cheat-sheet) to help you out.\n",
    "    * You can move text boxes around by clicking the up- and down- arrows on the top-ish left-hand side.\n",
    "    * You can stop editing a text cell by clicking the \"Run\" button on the top-ish left-hand side, to the right of the arrows.\n",
    "\n",
    "Step 2: <span style=\"color:purple\">Edit the \"Hello World!\" text box below.  Do something unique so when you turn this notebook in I can see that you've tried!</span>"
   ]
  },
  {
   "cell_type": "markdown",
   "metadata": {},
   "source": [
    "# Notice the hashtag evokes different behavior than in a code chunk; here it creates a section header; this is because Markdown is a different beast.  You should check out that cheatsheet.\n",
    "\n",
    "## Hello world!\n",
    "\n",
    "### How many layers of headings do you think we could have?"
   ]
  },
  {
   "cell_type": "markdown",
   "metadata": {},
   "source": [
    "**Section II: How to Edit Pre-Existing CODE CHUNK Cells**\n",
    "\n",
    "Step 1: Double ***left***-click.\n",
    "\n",
    "- A code chunk will be a different color than the text box.  For our notebooks, we see that it is a light gray as opposed to the white.  Use the code chunk below as an example while reading this list.\n",
    "- Notice **comments** are green while code is multi-color.  \n",
    "    - Comments are lines of code that are not run.  We will use them to communicate what we think the code is doing.\n",
    "-   Notice you have the option to move code chunks around, delete code chunks (see Edit), and other options just like a text box.\n",
    "    - One cool option is that you can include line numbers in different code chunks.  This gives you the ability to reference code more explicitly!\n",
    "        - You do this by highlighting the code, go to \"View\" > \"Toggle Line Numbers\".  Try it out!\n",
    "- To run the code and see the output, you can use the same \"Run\" button as before, on the top-ish left side of Jupyter.\n",
    "\n",
    "Step 2: <span style=\"color:purple\">Edit the code chunks below!</span>\n",
    "\n",
    "Make sure to read the commentary to learn how you should modify the chunks! "
   ]
  },
  {
   "cell_type": "code",
   "execution_count": 7,
   "metadata": {},
   "outputs": [],
   "source": [
    "## importing the necessary libraries\n",
    "import numpy as np\n",
    "import pandas as pd\n",
    "\n",
    "## creating vectors\n",
    "x = np.array([1,2,3,4])\n",
    "y = np.array([-1,2,3,0])\n",
    "\n",
    "# create your own and call it Fred!\n",
    "Fred = np.array([1,2,3,4])\n",
    "\n",
    "## Python uses element-wise operations\n",
    "s = x + Fred/y # what seems to be wrong with this one? it will throw an error, so don't get upset by it!\n",
    "diff = x - y \n",
    "div = y/Fred # why does this make more sense than the division in s?\n",
    "multi = x*y*Fred\n",
    "complex_op = Fred - x**2 # Python uses two astericks for exponents\n",
    "\n",
    "# do the math separately on paper to prove to yourself you understand what's happening\n",
    "# and include the pic with your submission \n",
    "# (bonus points if you can figure out how to include the image in a text box inside the notebook!)"
   ]
  },
  {
   "cell_type": "markdown",
   "metadata": {},
   "source": [
    "Jupyter notebook's code chunks will \n",
    "\n",
    "- not output results (also called **printing** in the world of computer science) for lines like ```complex_op = Fred - x**2``` because it reads this as a variable assignment.\n",
    "    - if you want to output results for lines like this, you must create a second code chunk with either (1) **only** the variable names, or (2) **only** the operations to be done.\n",
    "- only output the most recent line of code.  Thus, if you wanted to print both ```complex_op``` and ```multi```, you'd need to create two separate code chunks."
   ]
  },
  {
   "cell_type": "code",
   "execution_count": null,
   "metadata": {},
   "outputs": [],
   "source": [
    "## order of operations still matter in Python\n",
    "# err on the side of caution and use parentheses always!\n",
    "x + Fred*y"
   ]
  },
  {
   "cell_type": "code",
   "execution_count": null,
   "metadata": {},
   "outputs": [],
   "source": [
    "## order of operations still matter in Python\n",
    "# err on the side of caution and use parentheses always!\n",
    "(x + Fred)*y"
   ]
  },
  {
   "cell_type": "code",
   "execution_count": null,
   "metadata": {},
   "outputs": [],
   "source": [
    "## order of operations still matter in Python\n",
    "# err on the side of caution and use parentheses always!\n",
    "Fred - x**2"
   ]
  },
  {
   "cell_type": "code",
   "execution_count": null,
   "metadata": {},
   "outputs": [],
   "source": [
    "## order of operations still matter in Python\n",
    "# err on the side of caution and use parentheses always!\n",
    "(Fred - x)**2\n"
   ]
  },
  {
   "cell_type": "markdown",
   "metadata": {},
   "source": [
    "We have addition, substraction, division, and exponents.  What is another basic operation from Algebra 1 we haven't tried yet?  Name it.  Attempt to determine how to do it in Python.  Share with me your source!  Do all the editing in this text box."
   ]
  },
  {
   "cell_type": "markdown",
   "metadata": {},
   "source": [
    "**Section III: How to Create a New Text Box**\n",
    "\n",
    "Step 1: Hit the \"+\" on the top-ish left hand side of the screen.\n",
    "\n",
    "Step 2: Click the dropdown box on the top-ish middle part of the screen.\n",
    "\n",
    "Step 3: Click \"Markdown\".\n",
    "\n",
    "Step 4:  Start writing!  \n",
    "\n",
    "<span style=\"color:purple\">Create a new box below and tell me a bit about yourself!  Where are you from?  Why are you taking this class?  What's your relationship to mathematics?</span>"
   ]
  },
  {
   "cell_type": "markdown",
   "metadata": {},
   "source": [
    "A more general [Jupyter Notebook Cheatsheet](https://medium.com/edureka/jupyter-notebook-cheat-sheet-88f60d1aca7) is available to help you with other troubles you may have.\n"
   ]
  },
  {
   "cell_type": "markdown",
   "metadata": {},
   "source": [
    "**Section IV: Using the Notebook like a Graphing Calculator**\n",
    "\n",
    "We'll learn some essential tools in this section that'll be helpful to you as you progress in the course.\n",
    "\n",
    "First, the ```help()``` function is important because it'll describe\n",
    "\n",
    "* the input of a function, like what each argument's data type needs to be\n",
    "* the output of a function, i.e. what you should expect the function to produce\n",
    "\n",
    "Knowing how to use this function makes you a more autonomous programmer!  Let's practice reading Python's documentation and see if we can make sense of it.  \n",
    "\n",
    "<span style=\"color:purple\">In a text box below each of the next six functions, describe what you think the function does based on what output of the ```help()``` function says.</span>\n"
   ]
  },
  {
   "cell_type": "code",
   "execution_count": null,
   "metadata": {},
   "outputs": [],
   "source": [
    "help(np.mean) "
   ]
  },
  {
   "cell_type": "code",
   "execution_count": null,
   "metadata": {},
   "outputs": [],
   "source": [
    "help(np.median)"
   ]
  },
  {
   "cell_type": "code",
   "execution_count": null,
   "metadata": {},
   "outputs": [],
   "source": [
    "help(np.std)"
   ]
  },
  {
   "cell_type": "code",
   "execution_count": null,
   "metadata": {},
   "outputs": [],
   "source": [
    "help(np.var)"
   ]
  },
  {
   "cell_type": "code",
   "execution_count": null,
   "metadata": {},
   "outputs": [],
   "source": [
    "help(np.percentile)"
   ]
  },
  {
   "cell_type": "code",
   "execution_count": null,
   "metadata": {},
   "outputs": [],
   "source": [
    "help(np.corrcoef)"
   ]
  },
  {
   "cell_type": "markdown",
   "metadata": {},
   "source": [
    "Now that you're comfortable with the ```help()``` function and some other standard functions in the *numpy* library, let's try and get slightly more sophisticated!"
   ]
  },
  {
   "cell_type": "code",
   "execution_count": null,
   "metadata": {},
   "outputs": [],
   "source": [
    "## Simulating data to test code\n",
    "# in the next line, we are creating a random vector of elements Normally distributed with mean 1e6 and sd 1\n",
    "# We are then making it a PANDAS DATAFRAME object type\n",
    "data = pd.DataFrame([np.random.normal(loc = 1e6, scale = 1) for i in range(1,11)])\n",
    "\n",
    "# We determine the five number summary (i.e., the min, the first quartile, the second quartile, the third quartile, the max) \n",
    "# of the data\n",
    "data.describe()\n",
    "\n",
    "\n",
    "# For you: we want to scale the data using the natural log, fill in the blank and give this new vector a name\n",
    "np.log(data.describe())\n",
    "\n",
    "# we can randomly sample 5 elements from the scaled data using the sample function\n",
    "data.describe().sample(n = 5, replace = False)\n",
    "# what result do you get?\n"
   ]
  },
  {
   "cell_type": "markdown",
   "metadata": {},
   "source": [
    "## Conclusion\n",
    "<span style=\"color:purple\">\n",
    "1. State at least four different things you didn't know before and learned through this notebook.  Insert your answers into a new text box below this one.\n",
    "\n",
    "2. To save and close a Jupyter notebook, \n",
    "* click the floppy disk icon on the top-ish left hand side of this screen.\n",
    "* then, click \"File\" > \"Close and Halt\".  \n",
    "    - You always want to save!\n",
    "    - You cannot simply exit this window because the server will keep \"running\" this code.\n",
    "\n",
    "</span>"
   ]
  },
  {
   "cell_type": "markdown",
   "metadata": {},
   "source": [
    "**Note** I highly recommend you read Chapter 1-3 for an alternative introduction to Python and Jupyter notebooks."
   ]
  }
 ],
 "metadata": {
  "kernelspec": {
   "display_name": "Python 3 (ipykernel)",
   "language": "python",
   "name": "python3"
  },
  "language_info": {
   "codemirror_mode": {
    "name": "ipython",
    "version": 3
   },
   "file_extension": ".py",
   "mimetype": "text/x-python",
   "name": "python",
   "nbconvert_exporter": "python",
   "pygments_lexer": "ipython3",
   "version": "3.9.7"
  }
 },
 "nbformat": 4,
 "nbformat_minor": 2
}
