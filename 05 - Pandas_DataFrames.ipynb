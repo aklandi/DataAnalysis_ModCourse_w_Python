{
 "cells": [
  {
   "cell_type": "markdown",
   "metadata": {},
   "source": [
    "## Notebook Topic: pandas is the way!\n",
    "\n",
    "<ins>Learning Objectives</ins>\n",
    "\n",
    "1. To gain familiarity and comfort with the pandas library\n",
    "\n",
    "While **numpy** was the favored package for many years for scientific computing (and is still quite commonly used), **pandas** has recently risen to fame.  We will learn the basics in this notebook, and we will get more sophisticated in later notebooks.  I will refer you to the \"Resources\" Folder on our class website for a **pandas** cheatsheet (as well as a Jupyter and Python  basics cheatsheet).  "
   ]
  },
  {
   "cell_type": "markdown",
   "metadata": {},
   "source": [
    "**Section I: Series**\n",
    "\n",
    "In **pandas**, there are two main data structures (specific only to this library).  One of these data structures is called *Series*.  \n",
    "\n",
    "A Series is a one-dimensional array-like object containing a sequence of values of the *same* type and an associated array of data labels called its index.\n",
    "\n",
    "<span style=\"color:purple\">Check out the code chunk below to better understand what this definition means.</span>"
   ]
  },
  {
   "cell_type": "code",
   "execution_count": null,
   "metadata": {},
   "outputs": [],
   "source": [
    "import numpy as np\n",
    "import pandas as pd\n",
    "import seaborn as sns\n",
    "\n",
    "M = pd.Series([1, 2, 3, 4])\n",
    "\n",
    "print('This is the array \\n', M.array, 'and this is the index labels \\n', M.index)"
   ]
  },
  {
   "cell_type": "markdown",
   "metadata": {},
   "source": [
    "Series are used because of their indexing feature.  You can select individual data points based on their index.  For example, let's add some unique indexing names for M:"
   ]
  },
  {
   "cell_type": "code",
   "execution_count": 20,
   "metadata": {},
   "outputs": [],
   "source": [
    "M.index = [\"ABBA\", \"NSYNC\", \"FLO RIDA\", \"T SWIFT\"]"
   ]
  },
  {
   "cell_type": "markdown",
   "metadata": {},
   "source": [
    "Now, we can grab information from M based on its index."
   ]
  },
  {
   "cell_type": "code",
   "execution_count": null,
   "metadata": {},
   "outputs": [],
   "source": [
    "M['ABBA']"
   ]
  },
  {
   "cell_type": "code",
   "execution_count": null,
   "metadata": {},
   "outputs": [],
   "source": [
    "M[['ABBA', 'FLO RIDA']]"
   ]
  },
  {
   "cell_type": "markdown",
   "metadata": {},
   "source": [
    "<span style=\"color:purple\">\n",
    "What do you notice about how the two different lines of code look like and what their output is?\n",
    "</span>\n",
    "\n",
    "Answer the question here:\n"
   ]
  },
  {
   "cell_type": "markdown",
   "metadata": {},
   "source": [
    "Rather than just grabbing information from a data set, you can build new Series or aggregate two Series based on the index information."
   ]
  },
  {
   "cell_type": "code",
   "execution_count": null,
   "metadata": {},
   "outputs": [],
   "source": [
    "artists = [\"Ozzy Osbourne\", \"NSYNC\", \"FLO RIDA\", \"T SWIFT\"]\n",
    "\n",
    "new = pd.Series(M.array, index = artists)\n",
    "\n",
    "new + M"
   ]
  },
  {
   "cell_type": "markdown",
   "metadata": {},
   "source": [
    "<span style=\"color:purple\">What do you notice about the output?  What do you think it means?</span>\n",
    "\n",
    "Answer here:"
   ]
  },
  {
   "cell_type": "markdown",
   "metadata": {},
   "source": [
    "**Section II: DataFrame**\n",
    "\n",
    "This may be the most important object type you learn about this semester!  While numpy is great, its advantage is working with numeric-based data sets.  A pandas DataFrame allows an analysis of data sets with mixed data types."
   ]
  },
  {
   "cell_type": "code",
   "execution_count": null,
   "metadata": {},
   "outputs": [],
   "source": [
    "# Here is one way to create a dataframe\n",
    "\n",
    "data = {\"state\": [\"Ohio\", \"Ohio\", \"Ohio\", \"Nevada\", \"Nevada\", \"Nevada\"],\n",
    "        \"year\": [2000, 2001, 2002, 2001, 2002, 2003],\n",
    "        \"pop\": [1.5, 1.7, 3.6, 2.4, 2.9, 3.2]}\n",
    "\n",
    "frame = pd.DataFrame(data)\n",
    "\n",
    "frame.head()"
   ]
  },
  {
   "cell_type": "markdown",
   "metadata": {},
   "source": [
    "<span style=\"color:purple\">What do you think *.head() does based on the output?</span>"
   ]
  },
  {
   "cell_type": "code",
   "execution_count": null,
   "metadata": {},
   "outputs": [],
   "source": [
    "frame.shape"
   ]
  },
  {
   "cell_type": "markdown",
   "metadata": {},
   "source": [
    "<span style=\"color:purple\">What do you think *.shape does based on the output?</span>"
   ]
  },
  {
   "cell_type": "markdown",
   "metadata": {},
   "source": [
    "DataFrames have similar features as Series.  For example, we can extract information from a particular column using a column name."
   ]
  },
  {
   "cell_type": "code",
   "execution_count": null,
   "metadata": {},
   "outputs": [],
   "source": [
    "frame.year"
   ]
  },
  {
   "cell_type": "markdown",
   "metadata": {},
   "source": [
    "**Bonus points**. Gather, in a new code chunk, the population information for the year 2000.  You can use any method you feel comfortable with right now.  You may or may not need to review the first four notebooks."
   ]
  },
  {
   "cell_type": "code",
   "execution_count": null,
   "metadata": {},
   "outputs": [],
   "source": []
  },
  {
   "cell_type": "markdown",
   "metadata": {},
   "source": [
    "Let's check out a pre-existing data set (Python has some, and it is sometimes useful to use them rather than building your own)."
   ]
  },
  {
   "cell_type": "code",
   "execution_count": null,
   "metadata": {},
   "outputs": [],
   "source": [
    "iris = sns.load_dataset('iris')\n",
    "iris.___() #fill in the blank with the function we used to examine the first 5 rows of the data"
   ]
  },
  {
   "cell_type": "markdown",
   "metadata": {},
   "source": [
    "In this text box: <span style=\"color:purple\">describe the data.</span>"
   ]
  },
  {
   "cell_type": "markdown",
   "metadata": {},
   "source": [
    "DataFrames are relatively easy to subset/splice as we learned in earlier notebooks."
   ]
  },
  {
   "cell_type": "code",
   "execution_count": 72,
   "metadata": {},
   "outputs": [],
   "source": [
    "indx = iris.species == 'setosa'\n",
    "setosa = iris[indx]"
   ]
  },
  {
   "cell_type": "markdown",
   "metadata": {},
   "source": [
    "We can add or remove columns!"
   ]
  },
  {
   "cell_type": "code",
   "execution_count": null,
   "metadata": {},
   "outputs": [],
   "source": [
    "# create data of same size\n",
    "fake_coln = np.random.normal(loc = 0, scale = 1, size = (___,1)) #fill in the blank with the number of rows of the iris dataset\n",
    "# create extra column\n",
    "setosa[\"fake\"] = fake_coln\n",
    "setosa.head()"
   ]
  },
  {
   "cell_type": "code",
   "execution_count": null,
   "metadata": {},
   "outputs": [],
   "source": [
    "del setosa['fake']\n",
    "\n",
    "setosa.columns"
   ]
  },
  {
   "cell_type": "markdown",
   "metadata": {},
   "source": [
    "## Conclusion\n",
    "\n",
    "**Note** Chapter 5 goes into more detail about many more of the methods that work on Series and DataFrames.  \n",
    "\n",
    "<span style=\"color:purple\">\n",
    "    \n",
    "You should go through that chapter a little bit.  Name at least one more thing about DataFrames that you learned there that you didn't learn here.\n",
    "    \n",
    "</span>"
   ]
  }
 ],
 "metadata": {
  "kernelspec": {
   "display_name": "Python 3 (ipykernel)",
   "language": "python",
   "name": "python3"
  },
  "language_info": {
   "codemirror_mode": {
    "name": "ipython",
    "version": 3
   },
   "file_extension": ".py",
   "mimetype": "text/x-python",
   "name": "python",
   "nbconvert_exporter": "python",
   "pygments_lexer": "ipython3",
   "version": "3.9.7"
  }
 },
 "nbformat": 4,
 "nbformat_minor": 2
}
