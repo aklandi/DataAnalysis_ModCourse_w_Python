{
 "cells": [
  {
   "cell_type": "markdown",
   "metadata": {},
   "source": [
    "## Notebook Topic: Getting Familiar with Python\n",
    "\n",
    "<ins>Learning Objectives</ins>\n",
    "\n",
    "1. To deal with missing data\n",
    "2. To check object types"
   ]
  },
  {
   "cell_type": "markdown",
   "metadata": {},
   "source": [
    "**Section III: Missing Data**\n",
    "\n",
    "When dealing with real data, you may often have to deal with missing data.  \n",
    "\n",
    "For example, you collect signals from individuals using your companies Global Positioning System via satellite.  You do this in order to improve the maps being used by clients.  The satellite collects clear signals when weather is good but cannot collect any signals when weather is bad (like a severe thunderstorm).  On that particular day, your GPS cannot provide accurate estimated times of arrival, inform you of upcoming traffic jams, or warn you about the cops up ahead.\n",
    "\n",
    "Because missing data is more common than we think, we need to be prepared to deal with the situation!"
   ]
  },
  {
   "cell_type": "markdown",
   "metadata": {},
   "source": [
    "* Missing data will typically appear is as ```NaN``` or ```nan```.\n",
    "\n",
    "Less common, you may encounter data that is represented as a positive or negative infinity, so we will learn how to idenfity those too.\n",
    "\n"
   ]
  },
  {
   "cell_type": "code",
   "execution_count": 1,
   "metadata": {},
   "outputs": [
    {
     "data": {
      "text/plain": [
       "False"
      ]
     },
     "execution_count": 1,
     "metadata": {},
     "output_type": "execute_result"
    }
   ],
   "source": [
    "# the math library has some useful functions\n",
    "import math\n",
    "\n",
    "x = math.nan\n",
    "y = 3\n",
    "\n",
    "math.isnan(y)"
   ]
  },
  {
   "cell_type": "markdown",
   "metadata": {},
   "source": [
    "What happens when you check x?"
   ]
  },
  {
   "cell_type": "code",
   "execution_count": 2,
   "metadata": {},
   "outputs": [
    {
     "data": {
      "text/plain": [
       "False"
      ]
     },
     "execution_count": 2,
     "metadata": {},
     "output_type": "execute_result"
    }
   ],
   "source": [
    "w = -math.inf\n",
    "\n",
    "math.isfinite(w)"
   ]
  },
  {
   "cell_type": "markdown",
   "metadata": {},
   "source": [
    "Now, what happens when we have a vector containing these values?  Let's find out!"
   ]
  },
  {
   "cell_type": "code",
   "execution_count": 3,
   "metadata": {},
   "outputs": [],
   "source": [
    "# remember we need to use the numpy library for vectors\n",
    "import numpy as np\n",
    "\n",
    "z = np.array([y, x, w])"
   ]
  },
  {
   "cell_type": "code",
   "execution_count": 4,
   "metadata": {},
   "outputs": [
    {
     "data": {
      "text/plain": [
       "array([False, False,  True])"
      ]
     },
     "execution_count": 4,
     "metadata": {},
     "output_type": "execute_result"
    }
   ],
   "source": [
    "np.isinf(z)"
   ]
  },
  {
   "cell_type": "code",
   "execution_count": 5,
   "metadata": {},
   "outputs": [
    {
     "data": {
      "text/plain": [
       "array([False,  True, False])"
      ]
     },
     "execution_count": 5,
     "metadata": {},
     "output_type": "execute_result"
    }
   ],
   "source": [
    "np.isnan(z)"
   ]
  },
  {
   "cell_type": "code",
   "execution_count": 6,
   "metadata": {},
   "outputs": [
    {
     "data": {
      "text/plain": [
       "array([ True, False, False])"
      ]
     },
     "execution_count": 6,
     "metadata": {},
     "output_type": "execute_result"
    }
   ],
   "source": [
    "np.isfinite(z)"
   ]
  },
  {
   "cell_type": "markdown",
   "metadata": {},
   "source": [
    "What is the primary difference between the checks on **z** versus what we did to **x**, **y**, and **w** directly?"
   ]
  },
  {
   "cell_type": "markdown",
   "metadata": {},
   "source": [
    "**Section IV: Object Type Checks**\n",
    "\n",
    "Essentially what we did was to see if our objects (the simple **x**, **y**, and **w**; and elements **x**, **y**, and **w** from the array **z**) were of type nan, infinity, or finite.  We can check objects types more broadly as we'll see in this section."
   ]
  },
  {
   "cell_type": "markdown",
   "metadata": {},
   "source": [
    "**Object Types**\n",
    "\n",
    "In the *00 - Pre_class.ipynb* notebook, we used a function called ```type```.  If you don't remember, go review that notebook!"
   ]
  },
  {
   "cell_type": "markdown",
   "metadata": {},
   "source": [
    "There are a few basic object types in Python:\n",
    "\n",
    "*   Numeric (such as integers, floats)\n",
    "*   Strings (individual letters, words, and sentences; all denoted with quotation marks)\n",
    "*   Logical/Boolean (True and False)\n",
    "\n",
    "*type* will inform you whether a particular variable is of one of the types above."
   ]
  },
  {
   "cell_type": "code",
   "execution_count": 7,
   "metadata": {},
   "outputs": [
    {
     "data": {
      "text/plain": [
       "float"
      ]
     },
     "execution_count": 7,
     "metadata": {},
     "output_type": "execute_result"
    }
   ],
   "source": [
    "# does this return numeric?\n",
    "type(math.inf)"
   ]
  },
  {
   "cell_type": "code",
   "execution_count": 8,
   "metadata": {},
   "outputs": [
    {
     "data": {
      "text/plain": [
       "float"
      ]
     },
     "execution_count": 8,
     "metadata": {},
     "output_type": "execute_result"
    }
   ],
   "source": [
    "# what about this?\n",
    "type(math.nan)"
   ]
  },
  {
   "cell_type": "markdown",
   "metadata": {},
   "source": [
    "There are several higher level object types.  \n",
    "\n",
    "* Vectors (which we've seen a few of already) and matrices (we'll see in the near future) can only be all numeric or all strings or all boolean, etc.  We will become better acquianted with the *numpy* library for these.\n",
    "\n",
    "* Data frames can have columns *from* each of the basic types.  Data frames are an object we will use a lot for data analysis.  One of the main libraries we will work with involving these data types is *pandas*.\n"
   ]
  },
  {
   "cell_type": "markdown",
   "metadata": {},
   "source": [
    "**Section V: Casting Types**\n",
    "\n",
    "You can switch object types as needed.  But this only makes sense to do for some variable relationships.  For example,\n",
    "\n",
    "*   string <-> numeric\n",
    "*   boolean <-> numeric"
   ]
  },
  {
   "cell_type": "code",
   "execution_count": 9,
   "metadata": {},
   "outputs": [
    {
     "data": {
      "text/plain": [
       "dtype('<U1')"
      ]
     },
     "execution_count": 9,
     "metadata": {},
     "output_type": "execute_result"
    }
   ],
   "source": [
    "# when you have a vector of strings of numbers\n",
    "alpha = np.array([\"1\", \"2\", \"3\", \"4\", \"5\"])\n",
    "alpha.dtype"
   ]
  },
  {
   "cell_type": "code",
   "execution_count": 11,
   "metadata": {},
   "outputs": [
    {
     "data": {
      "text/plain": [
       "array([1., 2., 3., 4., 5.])"
      ]
     },
     "execution_count": 11,
     "metadata": {},
     "output_type": "execute_result"
    }
   ],
   "source": [
    "alpha.astype('float')\n"
   ]
  },
  {
   "cell_type": "code",
   "execution_count": 13,
   "metadata": {},
   "outputs": [
    {
     "data": {
      "text/plain": [
       "array([ 0.66634752, -0.50086467,  0.10832358, -0.93509705, -1.52857658])"
      ]
     },
     "execution_count": 13,
     "metadata": {},
     "output_type": "execute_result"
    }
   ],
   "source": [
    "# when you have numbers you need to be strings\n",
    "x = np.array([np.random.normal(loc = 0, scale = 1) for i in range(1,6)])\n",
    "x\n"
   ]
  },
  {
   "cell_type": "code",
   "execution_count": 14,
   "metadata": {},
   "outputs": [
    {
     "data": {
      "text/plain": [
       "str"
      ]
     },
     "execution_count": 14,
     "metadata": {},
     "output_type": "execute_result"
    }
   ],
   "source": [
    "\n",
    "y = [str(i) for i in x]\n",
    "type(y[0]) #is this true for all 5 elements? check in a new code chunk"
   ]
  },
  {
   "cell_type": "markdown",
   "metadata": {},
   "source": [
    "## Conclusion\n",
    "\n",
    "Name at least four different things you *think* you were __meant__ to learn from this notebook."
   ]
  },
  {
   "cell_type": "markdown",
   "metadata": {},
   "source": [
    "**Note** I highly recommend you read Chapter 1-3 for an alternative introduction to Python and Jupyter notebooks."
   ]
  }
 ],
 "metadata": {
  "kernelspec": {
   "display_name": "Python 3 (ipykernel)",
   "language": "python",
   "name": "python3"
  },
  "language_info": {
   "codemirror_mode": {
    "name": "ipython",
    "version": 3
   },
   "file_extension": ".py",
   "mimetype": "text/x-python",
   "name": "python",
   "nbconvert_exporter": "python",
   "pygments_lexer": "ipython3",
   "version": "3.9.7"
  }
 },
 "nbformat": 4,
 "nbformat_minor": 2
}
