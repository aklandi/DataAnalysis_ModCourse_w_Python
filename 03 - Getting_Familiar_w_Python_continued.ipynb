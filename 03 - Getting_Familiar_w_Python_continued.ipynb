{
 "cells": [
  {
   "cell_type": "markdown",
   "metadata": {},
   "source": [
    "## Notebook Topic: Getting Familiar with Python\n",
    "\n",
    "<ins>Learning Objectives</ins>\n",
    "\n",
    "1. To deal with missing data\n",
    "2. To check object types"
   ]
  },
  {
   "cell_type": "markdown",
   "metadata": {},
   "source": [
    "**Section III: Missing Data**\n",
    "\n",
    "When dealing with real data, you may often have to deal with missing data.  \n",
    "\n",
    "For example, you collect signals from individuals using your companies Global Positioning System via satellite.  You do this in order to improve the maps being used by clients.  The satellite collects clear signals when weather is good but cannot collect any signals when weather is bad (like a severe thunderstorm).  On that particular day, your GPS cannot provide accurate estimated times of arrival, inform you of upcoming traffic jams, or warn you about the cops up ahead.\n",
    "\n",
    "Because missing data is more common than we think, we need to be prepared to deal with the situation!"
   ]
  },
  {
   "cell_type": "markdown",
   "metadata": {},
   "source": [
    "* Missing data will typically appear is as ```NaN``` or ```nan```.\n",
    "\n",
    "Less common, you may encounter data that is represented as a positive or negative infinity, so we will learn how to idenfity those too.\n",
    "\n"
   ]
  },
  {
   "cell_type": "code",
   "execution_count": null,
   "metadata": {},
   "outputs": [],
   "source": [
    "# the math library has some useful functions\n",
    "import math\n",
    "\n",
    "x = math.nan\n",
    "y = 3\n",
    "\n",
    "math.isnan(y)"
   ]
  },
  {
   "cell_type": "markdown",
   "metadata": {},
   "source": [
    "<span style=\"color:purple\">Answer these questions in this text box: Why do you think you get that output for y?  What happens when you check x?</span>"
   ]
  },
  {
   "cell_type": "code",
   "execution_count": null,
   "metadata": {},
   "outputs": [],
   "source": [
    "w = -math.inf\n",
    "\n",
    "math.isfinite(w)"
   ]
  },
  {
   "cell_type": "markdown",
   "metadata": {},
   "source": [
    "Now, what happens when we have a vector containing these values?  Let's find out!"
   ]
  },
  {
   "cell_type": "code",
   "execution_count": null,
   "metadata": {},
   "outputs": [],
   "source": [
    "# remember we need to use the numpy library for vectors\n",
    "import numpy as np\n",
    "\n",
    "z = np.array([y, x, w])"
   ]
  },
  {
   "cell_type": "code",
   "execution_count": null,
   "metadata": {},
   "outputs": [],
   "source": [
    "np.isinf(z)"
   ]
  },
  {
   "cell_type": "code",
   "execution_count": null,
   "metadata": {},
   "outputs": [],
   "source": [
    "np.isnan(z)"
   ]
  },
  {
   "cell_type": "code",
   "execution_count": null,
   "metadata": {},
   "outputs": [],
   "source": [
    "np.isfinite(z)"
   ]
  },
  {
   "cell_type": "markdown",
   "metadata": {},
   "source": [
    "<span style=\"color:purple\">What is the primary difference between the checks on **z** versus what we did to **x**, **y**, and **w** directly?</span>"
   ]
  },
  {
   "cell_type": "markdown",
   "metadata": {},
   "source": [
    "**Section IV: Object Type Checks**\n",
    "\n",
    "Essentially what we did was to see if our objects (the simple **x**, **y**, and **w**; and elements **x**, **y**, and **w** from the array **z**) were of type nan, infinity, or finite.  We can check objects types more broadly as we'll see in this section."
   ]
  },
  {
   "cell_type": "markdown",
   "metadata": {},
   "source": [
    "**Object Types**\n",
    "\n",
    "In the *00 - Pre_class.ipynb* notebook, we used a function called ```type```.  If you don't remember, go review that notebook!"
   ]
  },
  {
   "cell_type": "markdown",
   "metadata": {},
   "source": [
    "There are a few basic object types in Python:\n",
    "\n",
    "*   Numeric (such as integers, floats)\n",
    "*   Strings (individual letters, words, and sentences; all denoted with quotation marks)\n",
    "*   Logical/Boolean (True and False)\n",
    "\n",
    "*type* will inform you whether a particular variable is of one of the types above."
   ]
  },
  {
   "cell_type": "code",
   "execution_count": null,
   "metadata": {},
   "outputs": [],
   "source": [
    "# does this return numeric?\n",
    "type(math.inf)"
   ]
  },
  {
   "cell_type": "code",
   "execution_count": null,
   "metadata": {},
   "outputs": [],
   "source": [
    "# what about this?\n",
    "type(math.nan)"
   ]
  },
  {
   "cell_type": "markdown",
   "metadata": {},
   "source": [
    "There are several higher level object types.  \n",
    "\n",
    "* Vectors (which we've seen a few of already) and matrices (we'll see in the near future) can only be all numeric or all strings or all boolean, etc.  We will become better acquianted with the *numpy* library for these.\n",
    "\n",
    "* Data frames can have columns *from* each of the basic types.  Data frames are an object we will use a lot for data analysis.  One of the main libraries we will work with involving these data types is *pandas*.\n"
   ]
  },
  {
   "cell_type": "markdown",
   "metadata": {},
   "source": [
    "**Section V: Casting Types**\n",
    "\n",
    "You can switch object types as needed.  But this only makes sense to do for some variable relationships.  For example,\n",
    "\n",
    "*   string <-> numeric\n",
    "*   boolean <-> numeric"
   ]
  },
  {
   "cell_type": "code",
   "execution_count": null,
   "metadata": {},
   "outputs": [],
   "source": [
    "# when you have a vector of strings of numbers\n",
    "alpha = np.array([\"1\", \"2\", \"3\", \"4\", \"5\"])\n",
    "alpha.dtype"
   ]
  },
  {
   "cell_type": "code",
   "execution_count": null,
   "metadata": {},
   "outputs": [],
   "source": [
    "alpha.astype('float')\n"
   ]
  },
  {
   "cell_type": "code",
   "execution_count": null,
   "metadata": {},
   "outputs": [],
   "source": [
    "# when you have numbers you need to be strings\n",
    "x = np.array([np.random.normal(loc = 0, scale = 1) for i in range(1,10)])\n",
    "x\n"
   ]
  },
  {
   "cell_type": "code",
   "execution_count": null,
   "metadata": {},
   "outputs": [],
   "source": [
    "\n",
    "y = [str(i) for i in x]\n",
    "type(y[0]) #is this true for all elements? check in a new code chunk"
   ]
  },
  {
   "cell_type": "markdown",
   "metadata": {},
   "source": [
    "**Section VI: Dealing with Missing Data**\n",
    "\n",
    "Let's create a dataset ```X``` that has some missing data.  And let's learn one way to deal with it."
   ]
  },
  {
   "cell_type": "code",
   "execution_count": null,
   "metadata": {},
   "outputs": [],
   "source": [
    "import pandas as pd\n",
    "import numpy as np\n",
    "\n",
    "# create data\n",
    "mat = np.array([[1, math.nan, 3],[0, 0, 3],[-math.inf, -1, 3]])\n",
    "# make columns names\n",
    "c = [\"height\", \"width\", \"axis angle\"]\n",
    "# make the data frame with data and columns names\n",
    "X = pd.DataFrame(data = mat, columns = c, index = None)\n",
    "\n",
    "X"
   ]
  },
  {
   "cell_type": "markdown",
   "metadata": {},
   "source": [
    "<span style=\"color:purple\">Describe what you see about ```X``` in this text box.</span>"
   ]
  },
  {
   "cell_type": "markdown",
   "metadata": {},
   "source": [
    "Now let's check the data for any missing data (i.e., any nans or infinity's).  <span style=\"color:purple\">Please follow the tasks in the comments.</span>"
   ]
  },
  {
   "cell_type": "code",
   "execution_count": null,
   "metadata": {},
   "outputs": [],
   "source": [
    "# fill in the blank with the function we used earlier to find nan's in an array\n",
    "___(X.values) "
   ]
  },
  {
   "cell_type": "code",
   "execution_count": null,
   "metadata": {},
   "outputs": [],
   "source": [
    "# fill in the blank with the function we used earlier to find inf's in an array\n",
    "____(X.values) "
   ]
  },
  {
   "cell_type": "markdown",
   "metadata": {},
   "source": [
    "To determine the elements in the dataset that are *either* nan **or** inf, we want to take the previous two lines of code and use one of the logical operators we learned about in notebook 02.  In the next code chunk, <span style=\"color:purple\">go ahead and try to figure it out! You have everything you need to do it. </span>"
   ]
  },
  {
   "cell_type": "code",
   "execution_count": null,
   "metadata": {},
   "outputs": [],
   "source": [
    "____(X.values) <insert logical operator here> ____(X.values) "
   ]
  },
  {
   "cell_type": "markdown",
   "metadata": {},
   "source": [
    "<span style=\"color:purple\">You should name the line of code above ```indx```.</span>  This is just like naming a variable.\n",
    "We will use this information to give ```X``` new values for those elements!"
   ]
  },
  {
   "cell_type": "code",
   "execution_count": null,
   "metadata": {},
   "outputs": [],
   "source": [
    "X.values[indx] = np.mean(X.values[~indx])"
   ]
  },
  {
   "cell_type": "markdown",
   "metadata": {},
   "source": [
    "<span style=\"color:purple\">Describe what you think the above code is doing in this text box.  You have been exposed to lines of code like this before!</span>"
   ]
  },
  {
   "cell_type": "code",
   "execution_count": null,
   "metadata": {},
   "outputs": [],
   "source": [
    "X"
   ]
  },
  {
   "cell_type": "markdown",
   "metadata": {},
   "source": [
    "<span style=\"color:purple\">Describe what you notice about ```X``` now in this text box.  What are the main differences you notice?</span>"
   ]
  },
  {
   "cell_type": "markdown",
   "metadata": {},
   "source": [
    "## Conclusion\n",
    "\n",
    "<span style=\"color:purple\">Name at least four different things you *think* you were __meant__ to learn from this notebook.</span>"
   ]
  },
  {
   "cell_type": "markdown",
   "metadata": {},
   "source": [
    "**Note** I highly recommend you read Chapter 1-3 for an alternative introduction to Python and Jupyter notebooks."
   ]
  }
 ],
 "metadata": {
  "kernelspec": {
   "display_name": "Python 3 (ipykernel)",
   "language": "python",
   "name": "python3"
  },
  "language_info": {
   "codemirror_mode": {
    "name": "ipython",
    "version": 3
   },
   "file_extension": ".py",
   "mimetype": "text/x-python",
   "name": "python",
   "nbconvert_exporter": "python",
   "pygments_lexer": "ipython3",
   "version": "3.9.7"
  }
 },
 "nbformat": 4,
 "nbformat_minor": 2
}
