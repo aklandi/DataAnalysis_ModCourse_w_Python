{
 "cells": [
  {
   "cell_type": "markdown",
   "metadata": {},
   "source": [
    "## Notebook Topic: Numpy Arrays\n",
    "\n",
    "<ins>Learning Objectives</ins>\n",
    "\n",
    "1. To do analysis on a numpy array\n",
    "\n",
    "One of the most important Python libraries in scientific computing is the **numpy** library.  Moreover, the numpy array is one of the most important data structures in Python.  Therefore, it is worth at least one notebook to become comfortable with its features.  \n",
    "\n",
    "Luckily, we've been working with both the **numpy** library and numpy arrays in previous notebooks!  So you have some familiarity already.  In this notebook, we'll be more intentional about that learning and follow along Chapter 4 in our textbook, *Python for Data Analysis*."
   ]
  },
  {
   "cell_type": "markdown",
   "metadata": {},
   "source": [
    "**Section I: Element-Wise Operations**"
   ]
  },
  {
   "cell_type": "code",
   "execution_count": 1,
   "metadata": {},
   "outputs": [],
   "source": [
    "# import numpy\n",
    "import numpy as np\n",
    "\n",
    "# create a list\n",
    "x = [1.5, -0.1, 3]\n",
    "y = [0, -3, 6.5]\n",
    "\n",
    "# can make a list a vector (or 1-dimensional numpy array)\n",
    "x_np = np.array(x)\n",
    "\n",
    "# or, can make a matrix from multiple lists (or 2-dimensional numpy array)\n",
    "mat = np.array([x,y])"
   ]
  },
  {
   "cell_type": "markdown",
   "metadata": {},
   "source": [
    "In a new code chunk, write out *x_np.shape* and *mat.shape*.  \n",
    "\n",
    "1. What do you get for each one?  \n",
    "2. What do you think *shape* attribute gives you, more generically?\n",
    "\n",
    "Insert your answers here or in a new text box below."
   ]
  },
  {
   "cell_type": "markdown",
   "metadata": {},
   "source": [
    "Often, we want to apply operations to each element of a matrix.  \n",
    "\n",
    "For example, \n",
    "\n",
    "* let **A** be a dataset where each row represents a home for sale in Berkshire county and each column represents a feature that contributes to the sale of the home (for example, total number of square feet, number of bedrooms, the age of the house, the age of the roof, etc.).  In the last column of **A**, the price is listed.\n",
    "\n",
    "* Currently the prices are outdated.  We know inflation has caused the sale price of each home skyrocket.  They are now 10 times greater than the current dataset lists.  \n",
    "\n",
    "* If there are more than 10 homes listed, we want a nice, easy operation to take care of changing those prices!"
   ]
  },
  {
   "cell_type": "code",
   "execution_count": null,
   "metadata": {},
   "outputs": [],
   "source": [
    "# element-wise addition\n",
    "mat + mat"
   ]
  },
  {
   "cell_type": "code",
   "execution_count": null,
   "metadata": {},
   "outputs": [],
   "source": [
    "# element-wise multiplication\n",
    "10*mat"
   ]
  },
  {
   "cell_type": "markdown",
   "metadata": {},
   "source": [
    "3. Based on your observations for the outputs in the previous two code chunks, what do you think \"element-wise\" means?\n",
    "4. Do you think *mat\\*mat* will produce element-wise multiplication too?  Test your hypothesis!\n",
    "\n",
    "Insert your answers here or in a new text box here."
   ]
  },
  {
   "cell_type": "markdown",
   "metadata": {},
   "source": [
    "These operations are the basic arithematic operations.  Other mathematical functions are also applied per element.  Check out Table 4.4.  Give me at least four of your favorite functions and describe them for me here!"
   ]
  },
  {
   "cell_type": "markdown",
   "metadata": {},
   "source": [
    "**Section II: Create Your Own**\n",
    "\n",
    "Based on what you observed with the creation of *mat*, try and create your own numpy array with 3 rows and 2 columns.  Call it *data1*.  Use the numbers {1,1,1,1,2,3} in your dataset."
   ]
  },
  {
   "cell_type": "code",
   "execution_count": null,
   "metadata": {},
   "outputs": [],
   "source": []
  },
  {
   "cell_type": "markdown",
   "metadata": {},
   "source": [
    "Sometimes you may need \"dummy\" data.  We can make a dataset of 0's or 1's or random numbers, depending on what serves our needs best."
   ]
  },
  {
   "cell_type": "code",
   "execution_count": null,
   "metadata": {},
   "outputs": [],
   "source": [
    "# create an array of 0's\n",
    "Z = np.zeros((10,3)) # what are the dimensions of this data?\n"
   ]
  },
  {
   "cell_type": "code",
   "execution_count": null,
   "metadata": {},
   "outputs": [],
   "source": [
    "# create an array of 1's\n",
    "O = np.ones((3,15)) # how many ones total are in this data?"
   ]
  },
  {
   "cell_type": "code",
   "execution_count": null,
   "metadata": {},
   "outputs": [],
   "source": [
    "# create an array of random values from N(0,1) like before\n",
    "R = np.random.normal(loc = 0, scale = 1, size = (3,5))"
   ]
  },
  {
   "cell_type": "markdown",
   "metadata": {},
   "source": [
    "Creating an array of random values from N(0,1) can be confusing.  Now that you are more familiar with numpy arrays, try and explain what is happening in the previous code chunk!"
   ]
  },
  {
   "cell_type": "markdown",
   "metadata": {},
   "source": [
    "**Section III: Subsetting aka Slicing**\n",
    "\n",
    "In some instances we may only want a subset of a larger dataset.  It helps to know different ways of slicing the data up to access just the portion."
   ]
  },
  {
   "cell_type": "code",
   "execution_count": null,
   "metadata": {},
   "outputs": [],
   "source": [
    "# I want just the second and last elements of x, so I try.\n",
    "# What do you notice about the output?\n",
    "x[1:2]"
   ]
  },
  {
   "cell_type": "code",
   "execution_count": null,
   "metadata": {},
   "outputs": [],
   "source": [
    "# Now I try\n",
    "x[1:3]\n",
    "# What can you say about slicing the array?"
   ]
  },
  {
   "cell_type": "markdown",
   "metadata": {},
   "source": [
    "For a two-dimensional array, we need a different approach.\n",
    "\n",
    "State which rows and columns are being produced by each line of code."
   ]
  },
  {
   "cell_type": "code",
   "execution_count": null,
   "metadata": {},
   "outputs": [],
   "source": [
    "R[0:2,1:3]"
   ]
  },
  {
   "cell_type": "code",
   "execution_count": null,
   "metadata": {},
   "outputs": [],
   "source": [
    "R[:3,0:1]"
   ]
  },
  {
   "cell_type": "code",
   "execution_count": null,
   "metadata": {},
   "outputs": [],
   "source": [
    "R[0:3,3:]"
   ]
  },
  {
   "cell_type": "code",
   "execution_count": null,
   "metadata": {},
   "outputs": [],
   "source": [
    "R[2]"
   ]
  },
  {
   "cell_type": "code",
   "execution_count": null,
   "metadata": {},
   "outputs": [],
   "source": [
    "R[:]"
   ]
  },
  {
   "cell_type": "code",
   "execution_count": null,
   "metadata": {},
   "outputs": [],
   "source": [
    "R[0,2]"
   ]
  },
  {
   "cell_type": "code",
   "execution_count": null,
   "metadata": {},
   "outputs": [],
   "source": [
    "R[0][2]"
   ]
  },
  {
   "cell_type": "markdown",
   "metadata": {},
   "source": [
    "We can use booleans for subsetting as well!  This would be subsetting based on a particular condition.\n",
    "\n",
    "For example, if I have a data set of names of students, and I want to determine how many students have the same name, I could use booleans to help me decide."
   ]
  },
  {
   "cell_type": "code",
   "execution_count": null,
   "metadata": {},
   "outputs": [],
   "source": [
    "students = np.array([\"Mario\", \"Luigi\", \"Peach\", \"Wario\", \"Mario\", \"Bowser\", \"Mario\", \"Wario\"])\n",
    "gpa = np.array([1.1, 2.0, 3.2, 2.8, 3.3, 3.6, 4.8, 1.9])\n",
    "data = np.array([students, gpa]).T #this is called transposing; we do this when we want the dimensions swapped\n",
    "\n",
    "indx = students == \"Mario\"\n",
    "np.where(indx)"
   ]
  },
  {
   "cell_type": "markdown",
   "metadata": {},
   "source": [
    "In the code chunk above, we use *indx* to create an array that says ```True``` wherever the name *Mario* appears and ```False``` otherwise.  Then, we use the numpy function ```np.where``` in order to determine what the location of the ```True```s are.\n",
    "\n",
    "Now we can use that Boolean information to determine the gpas of the different Marios!"
   ]
  },
  {
   "cell_type": "code",
   "execution_count": null,
   "metadata": {},
   "outputs": [],
   "source": [
    "data[indx,]"
   ]
  },
  {
   "cell_type": "markdown",
   "metadata": {},
   "source": [
    "You could get more creative, but we'll wait until we're dealing with **pandas** data sets.  However, please read Chapter 4 if you are finding this really interesting."
   ]
  },
  {
   "cell_type": "markdown",
   "metadata": {},
   "source": [
    "## Conclusion\n",
    "\n",
    "What is one thing you find useful about numpy arrays that you didn't know before?"
   ]
  }
 ],
 "metadata": {
  "kernelspec": {
   "display_name": "base",
   "language": "python",
   "name": "python3"
  },
  "language_info": {
   "codemirror_mode": {
    "name": "ipython",
    "version": 3
   },
   "file_extension": ".py",
   "mimetype": "text/x-python",
   "name": "python",
   "nbconvert_exporter": "python",
   "pygments_lexer": "ipython3",
   "version": "3.10.12"
  },
  "orig_nbformat": 4
 },
 "nbformat": 4,
 "nbformat_minor": 2
}
